{
 "cells": [
  {
   "cell_type": "code",
   "execution_count": 3,
   "metadata": {},
   "outputs": [],
   "source": [
    "import requests\n",
    "import re\n",
    "import os\n",
    "from nltk import word_tokenize"
   ]
  },
  {
   "cell_type": "code",
   "execution_count": 5,
   "metadata": {},
   "outputs": [],
   "source": [
    "test = \"Plato (/ˈpleɪtoʊ/; PLAY-toe[2] Greek: Πλάτων Plátōn, pronounced [plá.tɔːn] PLOT-own in Classical Attic; 428/427 or \\\n",
    "424/423 – 348/347 BC) was an Athenian philosopher during the Classical period in Ancient Greece and the founder of the Academy, \\\n",
    "the first institution of higher learning in the Western world. He is widely considered the pivotal figure in the history of Ancient Greek and Western philosophy, along with his teacher, Socrates, and his most famous student, Aristotle.[a] Alfred North Whitehead once noted: 'the safest general characterization of the European philosophical \\\n",
    "tradition is that it consists of a series of footnotes to Plato.' \\\n",
    "Plato has also often been cited as one of the founders of Western religion and spirituality.\\\n",
    "The so-called Neoplatonism of philosophers like Plotinus and Porphyry influenced Saint Augustine and thus Christianity.\\\n",
    "Plato was the innovator of the written dialogue and dialectic forms in philosophy. \\\n",
    "Plato also appears to have been the founder of Western political philosophy. \\\n",
    "His most famous contribution bears his name, Platonism (also ambiguously called either Platonic realism or Platonic idealism), \\\n",
    "the doctrine of the Forms known by pure reason to provide a realist solution to the problem of universals. \\\n",
    "He is also the namesake of Platonic love and the Platonic solids.\\\n",
    "His own most decisive philosophical influences are usually thought to have been along with Socrates, \\\n",
    "the pre-Socratics Pythagoras, Heraclitus and Parmenides, \\\n",
    "although few of his predecessors' works remain extant and much of what we know about these figures today derives from Plato himself.\\\n",
    "Unlike the work of nearly all of his contemporaries, \\\n",
    "Plato's entire oeuvre is believed to have survived intact for over 2,400 years.\\\n",
    "Although their popularity has fluctuated over the years, the works of Plato have never been without readers since the time they were written.\""
   ]
  },
  {
   "cell_type": "markdown",
   "metadata": {},
   "source": [
    "## Lower Case for All ##"
   ]
  },
  {
   "cell_type": "code",
   "execution_count": 6,
   "metadata": {},
   "outputs": [],
   "source": [
    "test = test.lower()"
   ]
  },
  {
   "cell_type": "code",
   "execution_count": 7,
   "metadata": {},
   "outputs": [
    {
     "name": "stdout",
     "output_type": "stream",
     "text": [
      "plato (/ˈpleɪtoʊ/; play-toe[2] greek: πλάτων plátōn, pronounced [plá.tɔːn] plot-own in classical attic; 428/427 or 424/423 – 348/347 bc) was an athenian philosopher during the classical period in ancient greece and the founder of the academy, the first institution of higher learning in the western world. he is widely considered the pivotal figure in the history of ancient greek and western philosophy, along with his teacher, socrates, and his most famous student, aristotle.[a] alfred north whitehead once noted: 'the safest general characterization of the european philosophical tradition is that it consists of a series of footnotes to plato.' plato has also often been cited as one of the founders of western religion and spirituality.the so-called neoplatonism of philosophers like plotinus and porphyry influenced saint augustine and thus christianity.plato was the innovator of the written dialogue and dialectic forms in philosophy. plato also appears to have been the founder of western political philosophy. his most famous contribution bears his name, platonism (also ambiguously called either platonic realism or platonic idealism), the doctrine of the forms known by pure reason to provide a realist solution to the problem of universals. he is also the namesake of platonic love and the platonic solids.his own most decisive philosophical influences are usually thought to have been along with socrates, the pre-socratics pythagoras, heraclitus and parmenides, although few of his predecessors' works remain extant and much of what we know about these figures today derives from plato himself.unlike the work of nearly all of his contemporaries, plato's entire oeuvre is believed to have survived intact for over 2,400 years.although their popularity has fluctuated over the years, the works of plato have never been without readers since the time they were written.\n"
     ]
    }
   ],
   "source": [
    "print(test)"
   ]
  },
  {
   "cell_type": "markdown",
   "metadata": {},
   "source": [
    "## Remove Punctuations ##"
   ]
  },
  {
   "cell_type": "code",
   "execution_count": 8,
   "metadata": {},
   "outputs": [
    {
     "name": "stdout",
     "output_type": "stream",
     "text": [
      "plato    ple to    play toe 2  greek         pl t n  pronounced  pl  t  n  plot own in classical attic  428 427 or 424 423   348 347 bc  was an athenian philosopher during the classical period in ancient greece and the founder of the academy  the first institution of higher learning in the western world  he is widely considered the pivotal figure in the history of ancient greek and western philosophy  along with his teacher  socrates  and his most famous student  aristotle  a  alfred north whitehead once noted   the safest general characterization of the european philosophical tradition is that it consists of a series of footnotes to plato   plato has also often been cited as one of the founders of western religion and spirituality the so called neoplatonism of philosophers like plotinus and porphyry influenced saint augustine and thus christianity plato was the innovator of the written dialogue and dialectic forms in philosophy  plato also appears to have been the founder of western political philosophy  his most famous contribution bears his name  platonism  also ambiguously called either platonic realism or platonic idealism   the doctrine of the forms known by pure reason to provide a realist solution to the problem of universals  he is also the namesake of platonic love and the platonic solids his own most decisive philosophical influences are usually thought to have been along with socrates  the pre socratics pythagoras  heraclitus and parmenides  although few of his predecessors  works remain extant and much of what we know about these figures today derives from plato himself unlike the work of nearly all of his contemporaries  plato s entire oeuvre is believed to have survived intact for over 2 400 years although their popularity has fluctuated over the years  the works of plato have never been without readers since the time they were written \n"
     ]
    }
   ],
   "source": [
    "test = re.sub(r\"[^a-zA-Z0-9]\",\" \", test)\n",
    "\n",
    "print(test)"
   ]
  },
  {
   "cell_type": "code",
   "execution_count": 9,
   "metadata": {},
   "outputs": [],
   "source": [
    "words = test.split()"
   ]
  },
  {
   "cell_type": "code",
   "execution_count": 10,
   "metadata": {},
   "outputs": [
    {
     "name": "stdout",
     "output_type": "stream",
     "text": [
      "['plato', 'ple', 'to', 'play', 'toe', '2', 'greek', 'pl', 't', 'n', 'pronounced', 'pl', 't', 'n', 'plot', 'own', 'in', 'classical', 'attic', '428', '427', 'or', '424', '423', '348', '347', 'bc', 'was', 'an', 'athenian', 'philosopher', 'during', 'the', 'classical', 'period', 'in', 'ancient', 'greece', 'and', 'the', 'founder', 'of', 'the', 'academy', 'the', 'first', 'institution', 'of', 'higher', 'learning', 'in', 'the', 'western', 'world', 'he', 'is', 'widely', 'considered', 'the', 'pivotal', 'figure', 'in', 'the', 'history', 'of', 'ancient', 'greek', 'and', 'western', 'philosophy', 'along', 'with', 'his', 'teacher', 'socrates', 'and', 'his', 'most', 'famous', 'student', 'aristotle', 'a', 'alfred', 'north', 'whitehead', 'once', 'noted', 'the', 'safest', 'general', 'characterization', 'of', 'the', 'european', 'philosophical', 'tradition', 'is', 'that', 'it', 'consists', 'of', 'a', 'series', 'of', 'footnotes', 'to', 'plato', 'plato', 'has', 'also', 'often', 'been', 'cited', 'as', 'one', 'of', 'the', 'founders', 'of', 'western', 'religion', 'and', 'spirituality', 'the', 'so', 'called', 'neoplatonism', 'of', 'philosophers', 'like', 'plotinus', 'and', 'porphyry', 'influenced', 'saint', 'augustine', 'and', 'thus', 'christianity', 'plato', 'was', 'the', 'innovator', 'of', 'the', 'written', 'dialogue', 'and', 'dialectic', 'forms', 'in', 'philosophy', 'plato', 'also', 'appears', 'to', 'have', 'been', 'the', 'founder', 'of', 'western', 'political', 'philosophy', 'his', 'most', 'famous', 'contribution', 'bears', 'his', 'name', 'platonism', 'also', 'ambiguously', 'called', 'either', 'platonic', 'realism', 'or', 'platonic', 'idealism', 'the', 'doctrine', 'of', 'the', 'forms', 'known', 'by', 'pure', 'reason', 'to', 'provide', 'a', 'realist', 'solution', 'to', 'the', 'problem', 'of', 'universals', 'he', 'is', 'also', 'the', 'namesake', 'of', 'platonic', 'love', 'and', 'the', 'platonic', 'solids', 'his', 'own', 'most', 'decisive', 'philosophical', 'influences', 'are', 'usually', 'thought', 'to', 'have', 'been', 'along', 'with', 'socrates', 'the', 'pre', 'socratics', 'pythagoras', 'heraclitus', 'and', 'parmenides', 'although', 'few', 'of', 'his', 'predecessors', 'works', 'remain', 'extant', 'and', 'much', 'of', 'what', 'we', 'know', 'about', 'these', 'figures', 'today', 'derives', 'from', 'plato', 'himself', 'unlike', 'the', 'work', 'of', 'nearly', 'all', 'of', 'his', 'contemporaries', 'plato', 's', 'entire', 'oeuvre', 'is', 'believed', 'to', 'have', 'survived', 'intact', 'for', 'over', '2', '400', 'years', 'although', 'their', 'popularity', 'has', 'fluctuated', 'over', 'the', 'years', 'the', 'works', 'of', 'plato', 'have', 'never', 'been', 'without', 'readers', 'since', 'the', 'time', 'they', 'were', 'written']\n"
     ]
    }
   ],
   "source": [
    "print(words)"
   ]
  },
  {
   "cell_type": "code",
   "execution_count": 12,
   "metadata": {},
   "outputs": [
    {
     "ename": "LookupError",
     "evalue": "\n**********************************************************************\n  Resource \u001b[93mpunkt\u001b[0m not found.\n  Please use the NLTK Downloader to obtain the resource:\n\n  \u001b[31m>>> import nltk\n  >>> nltk.download('punkt')\n  \u001b[0m\n  Attempted to load \u001b[93mtokenizers/punkt/english.pickle\u001b[0m\n\n  Searched in:\n    - 'C:\\\\Users\\\\cwuas/nltk_data'\n    - 'C:\\\\Users\\\\cwuas\\\\Anaconda3\\\\envs\\\\NLP2\\\\nltk_data'\n    - 'C:\\\\Users\\\\cwuas\\\\Anaconda3\\\\envs\\\\NLP2\\\\share\\\\nltk_data'\n    - 'C:\\\\Users\\\\cwuas\\\\Anaconda3\\\\envs\\\\NLP2\\\\lib\\\\nltk_data'\n    - 'C:\\\\Users\\\\cwuas\\\\AppData\\\\Roaming\\\\nltk_data'\n    - 'C:\\\\nltk_data'\n    - 'D:\\\\nltk_data'\n    - 'E:\\\\nltk_data'\n    - ''\n**********************************************************************\n",
     "output_type": "error",
     "traceback": [
      "\u001b[1;31m---------------------------------------------------------------------------\u001b[0m",
      "\u001b[1;31mLookupError\u001b[0m                               Traceback (most recent call last)",
      "\u001b[1;32m<ipython-input-12-83a6ca2a3bac>\u001b[0m in \u001b[0;36m<module>\u001b[1;34m\u001b[0m\n\u001b[1;32m----> 1\u001b[1;33m \u001b[0mwords2\u001b[0m \u001b[1;33m=\u001b[0m \u001b[0mword_tokenize\u001b[0m\u001b[1;33m(\u001b[0m\u001b[0mtest\u001b[0m\u001b[1;33m)\u001b[0m\u001b[1;33m\u001b[0m\u001b[1;33m\u001b[0m\u001b[0m\n\u001b[0m",
      "\u001b[1;32m~\\Anaconda3\\envs\\NLP2\\lib\\site-packages\\nltk\\tokenize\\__init__.py\u001b[0m in \u001b[0;36mword_tokenize\u001b[1;34m(text, language, preserve_line)\u001b[0m\n\u001b[0;32m    141\u001b[0m     \u001b[1;33m:\u001b[0m\u001b[0mtype\u001b[0m \u001b[0mpreserve_line\u001b[0m\u001b[1;33m:\u001b[0m \u001b[0mbool\u001b[0m\u001b[1;33m\u001b[0m\u001b[1;33m\u001b[0m\u001b[0m\n\u001b[0;32m    142\u001b[0m     \"\"\"\n\u001b[1;32m--> 143\u001b[1;33m     \u001b[0msentences\u001b[0m \u001b[1;33m=\u001b[0m \u001b[1;33m[\u001b[0m\u001b[0mtext\u001b[0m\u001b[1;33m]\u001b[0m \u001b[1;32mif\u001b[0m \u001b[0mpreserve_line\u001b[0m \u001b[1;32melse\u001b[0m \u001b[0msent_tokenize\u001b[0m\u001b[1;33m(\u001b[0m\u001b[0mtext\u001b[0m\u001b[1;33m,\u001b[0m \u001b[0mlanguage\u001b[0m\u001b[1;33m)\u001b[0m\u001b[1;33m\u001b[0m\u001b[1;33m\u001b[0m\u001b[0m\n\u001b[0m\u001b[0;32m    144\u001b[0m     return [\n\u001b[0;32m    145\u001b[0m         \u001b[0mtoken\u001b[0m \u001b[1;32mfor\u001b[0m \u001b[0msent\u001b[0m \u001b[1;32min\u001b[0m \u001b[0msentences\u001b[0m \u001b[1;32mfor\u001b[0m \u001b[0mtoken\u001b[0m \u001b[1;32min\u001b[0m \u001b[0m_treebank_word_tokenizer\u001b[0m\u001b[1;33m.\u001b[0m\u001b[0mtokenize\u001b[0m\u001b[1;33m(\u001b[0m\u001b[0msent\u001b[0m\u001b[1;33m)\u001b[0m\u001b[1;33m\u001b[0m\u001b[1;33m\u001b[0m\u001b[0m\n",
      "\u001b[1;32m~\\Anaconda3\\envs\\NLP2\\lib\\site-packages\\nltk\\tokenize\\__init__.py\u001b[0m in \u001b[0;36msent_tokenize\u001b[1;34m(text, language)\u001b[0m\n\u001b[0;32m    102\u001b[0m     \u001b[1;33m:\u001b[0m\u001b[0mparam\u001b[0m \u001b[0mlanguage\u001b[0m\u001b[1;33m:\u001b[0m \u001b[0mthe\u001b[0m \u001b[0mmodel\u001b[0m \u001b[0mname\u001b[0m \u001b[1;32min\u001b[0m \u001b[0mthe\u001b[0m \u001b[0mPunkt\u001b[0m \u001b[0mcorpus\u001b[0m\u001b[1;33m\u001b[0m\u001b[1;33m\u001b[0m\u001b[0m\n\u001b[0;32m    103\u001b[0m     \"\"\"\n\u001b[1;32m--> 104\u001b[1;33m     \u001b[0mtokenizer\u001b[0m \u001b[1;33m=\u001b[0m \u001b[0mload\u001b[0m\u001b[1;33m(\u001b[0m\u001b[1;34m'tokenizers/punkt/{0}.pickle'\u001b[0m\u001b[1;33m.\u001b[0m\u001b[0mformat\u001b[0m\u001b[1;33m(\u001b[0m\u001b[0mlanguage\u001b[0m\u001b[1;33m)\u001b[0m\u001b[1;33m)\u001b[0m\u001b[1;33m\u001b[0m\u001b[1;33m\u001b[0m\u001b[0m\n\u001b[0m\u001b[0;32m    105\u001b[0m     \u001b[1;32mreturn\u001b[0m \u001b[0mtokenizer\u001b[0m\u001b[1;33m.\u001b[0m\u001b[0mtokenize\u001b[0m\u001b[1;33m(\u001b[0m\u001b[0mtext\u001b[0m\u001b[1;33m)\u001b[0m\u001b[1;33m\u001b[0m\u001b[1;33m\u001b[0m\u001b[0m\n\u001b[0;32m    106\u001b[0m \u001b[1;33m\u001b[0m\u001b[0m\n",
      "\u001b[1;32m~\\Anaconda3\\envs\\NLP2\\lib\\site-packages\\nltk\\data.py\u001b[0m in \u001b[0;36mload\u001b[1;34m(resource_url, format, cache, verbose, logic_parser, fstruct_reader, encoding)\u001b[0m\n\u001b[0;32m    866\u001b[0m \u001b[1;33m\u001b[0m\u001b[0m\n\u001b[0;32m    867\u001b[0m     \u001b[1;31m# Load the resource.\u001b[0m\u001b[1;33m\u001b[0m\u001b[1;33m\u001b[0m\u001b[1;33m\u001b[0m\u001b[0m\n\u001b[1;32m--> 868\u001b[1;33m     \u001b[0mopened_resource\u001b[0m \u001b[1;33m=\u001b[0m \u001b[0m_open\u001b[0m\u001b[1;33m(\u001b[0m\u001b[0mresource_url\u001b[0m\u001b[1;33m)\u001b[0m\u001b[1;33m\u001b[0m\u001b[1;33m\u001b[0m\u001b[0m\n\u001b[0m\u001b[0;32m    869\u001b[0m \u001b[1;33m\u001b[0m\u001b[0m\n\u001b[0;32m    870\u001b[0m     \u001b[1;32mif\u001b[0m \u001b[0mformat\u001b[0m \u001b[1;33m==\u001b[0m \u001b[1;34m'raw'\u001b[0m\u001b[1;33m:\u001b[0m\u001b[1;33m\u001b[0m\u001b[1;33m\u001b[0m\u001b[0m\n",
      "\u001b[1;32m~\\Anaconda3\\envs\\NLP2\\lib\\site-packages\\nltk\\data.py\u001b[0m in \u001b[0;36m_open\u001b[1;34m(resource_url)\u001b[0m\n\u001b[0;32m    991\u001b[0m \u001b[1;33m\u001b[0m\u001b[0m\n\u001b[0;32m    992\u001b[0m     \u001b[1;32mif\u001b[0m \u001b[0mprotocol\u001b[0m \u001b[1;32mis\u001b[0m \u001b[1;32mNone\u001b[0m \u001b[1;32mor\u001b[0m \u001b[0mprotocol\u001b[0m\u001b[1;33m.\u001b[0m\u001b[0mlower\u001b[0m\u001b[1;33m(\u001b[0m\u001b[1;33m)\u001b[0m \u001b[1;33m==\u001b[0m \u001b[1;34m'nltk'\u001b[0m\u001b[1;33m:\u001b[0m\u001b[1;33m\u001b[0m\u001b[1;33m\u001b[0m\u001b[0m\n\u001b[1;32m--> 993\u001b[1;33m         \u001b[1;32mreturn\u001b[0m \u001b[0mfind\u001b[0m\u001b[1;33m(\u001b[0m\u001b[0mpath_\u001b[0m\u001b[1;33m,\u001b[0m \u001b[0mpath\u001b[0m \u001b[1;33m+\u001b[0m \u001b[1;33m[\u001b[0m\u001b[1;34m''\u001b[0m\u001b[1;33m]\u001b[0m\u001b[1;33m)\u001b[0m\u001b[1;33m.\u001b[0m\u001b[0mopen\u001b[0m\u001b[1;33m(\u001b[0m\u001b[1;33m)\u001b[0m\u001b[1;33m\u001b[0m\u001b[1;33m\u001b[0m\u001b[0m\n\u001b[0m\u001b[0;32m    994\u001b[0m     \u001b[1;32melif\u001b[0m \u001b[0mprotocol\u001b[0m\u001b[1;33m.\u001b[0m\u001b[0mlower\u001b[0m\u001b[1;33m(\u001b[0m\u001b[1;33m)\u001b[0m \u001b[1;33m==\u001b[0m \u001b[1;34m'file'\u001b[0m\u001b[1;33m:\u001b[0m\u001b[1;33m\u001b[0m\u001b[1;33m\u001b[0m\u001b[0m\n\u001b[0;32m    995\u001b[0m         \u001b[1;31m# urllib might not use mode='rb', so handle this one ourselves:\u001b[0m\u001b[1;33m\u001b[0m\u001b[1;33m\u001b[0m\u001b[1;33m\u001b[0m\u001b[0m\n",
      "\u001b[1;32m~\\Anaconda3\\envs\\NLP2\\lib\\site-packages\\nltk\\data.py\u001b[0m in \u001b[0;36mfind\u001b[1;34m(resource_name, paths)\u001b[0m\n\u001b[0;32m    697\u001b[0m     \u001b[0msep\u001b[0m \u001b[1;33m=\u001b[0m \u001b[1;34m'*'\u001b[0m \u001b[1;33m*\u001b[0m \u001b[1;36m70\u001b[0m\u001b[1;33m\u001b[0m\u001b[1;33m\u001b[0m\u001b[0m\n\u001b[0;32m    698\u001b[0m     \u001b[0mresource_not_found\u001b[0m \u001b[1;33m=\u001b[0m \u001b[1;34m'\\n%s\\n%s\\n%s\\n'\u001b[0m \u001b[1;33m%\u001b[0m \u001b[1;33m(\u001b[0m\u001b[0msep\u001b[0m\u001b[1;33m,\u001b[0m \u001b[0mmsg\u001b[0m\u001b[1;33m,\u001b[0m \u001b[0msep\u001b[0m\u001b[1;33m)\u001b[0m\u001b[1;33m\u001b[0m\u001b[1;33m\u001b[0m\u001b[0m\n\u001b[1;32m--> 699\u001b[1;33m     \u001b[1;32mraise\u001b[0m \u001b[0mLookupError\u001b[0m\u001b[1;33m(\u001b[0m\u001b[0mresource_not_found\u001b[0m\u001b[1;33m)\u001b[0m\u001b[1;33m\u001b[0m\u001b[1;33m\u001b[0m\u001b[0m\n\u001b[0m\u001b[0;32m    700\u001b[0m \u001b[1;33m\u001b[0m\u001b[0m\n\u001b[0;32m    701\u001b[0m \u001b[1;33m\u001b[0m\u001b[0m\n",
      "\u001b[1;31mLookupError\u001b[0m: \n**********************************************************************\n  Resource \u001b[93mpunkt\u001b[0m not found.\n  Please use the NLTK Downloader to obtain the resource:\n\n  \u001b[31m>>> import nltk\n  >>> nltk.download('punkt')\n  \u001b[0m\n  Attempted to load \u001b[93mtokenizers/punkt/english.pickle\u001b[0m\n\n  Searched in:\n    - 'C:\\\\Users\\\\cwuas/nltk_data'\n    - 'C:\\\\Users\\\\cwuas\\\\Anaconda3\\\\envs\\\\NLP2\\\\nltk_data'\n    - 'C:\\\\Users\\\\cwuas\\\\Anaconda3\\\\envs\\\\NLP2\\\\share\\\\nltk_data'\n    - 'C:\\\\Users\\\\cwuas\\\\Anaconda3\\\\envs\\\\NLP2\\\\lib\\\\nltk_data'\n    - 'C:\\\\Users\\\\cwuas\\\\AppData\\\\Roaming\\\\nltk_data'\n    - 'C:\\\\nltk_data'\n    - 'D:\\\\nltk_data'\n    - 'E:\\\\nltk_data'\n    - ''\n**********************************************************************\n"
     ]
    }
   ],
   "source": [
    "words2 = word_tokenize(test)"
   ]
  }
 ],
 "metadata": {
  "kernelspec": {
   "display_name": "Python 3",
   "language": "python",
   "name": "python3"
  },
  "language_info": {
   "codemirror_mode": {
    "name": "ipython",
    "version": 3
   },
   "file_extension": ".py",
   "mimetype": "text/x-python",
   "name": "python",
   "nbconvert_exporter": "python",
   "pygments_lexer": "ipython3",
   "version": "3.7.2"
  }
 },
 "nbformat": 4,
 "nbformat_minor": 2
}
