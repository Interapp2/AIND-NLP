{
 "cells": [
  {
   "cell_type": "markdown",
   "metadata": {},
   "source": [
    "# Text Processing\n",
    "\n",
    "## Capturing Text Data\n",
    "\n",
    "### Plain Text"
   ]
  },
  {
   "cell_type": "code",
   "execution_count": 1,
   "metadata": {},
   "outputs": [
    {
     "name": "stdout",
     "output_type": "stream",
     "text": [
      "Hieroglyphic writing dates from c. 3000 BC, and is composed of hundreds of symbols. A hieroglyph can represent a word, a sound, or a silent determinative; and the same symbol can serve different purposes in different contexts. Hieroglyphs were a formal script, used on stone monuments and in tombs, that could be as detailed as individual works of art.\n",
      "\n"
     ]
    }
   ],
   "source": [
    "import os\n",
    "\n",
    "# Read in a plain text file\n",
    "with open(os.path.join(\"data\", \"hieroglyph.txt\"), \"r\") as f:\n",
    "    text = f.read()\n",
    "    print(text)"
   ]
  },
  {
   "cell_type": "markdown",
   "metadata": {},
   "source": [
    "### Tabular Data"
   ]
  },
  {
   "cell_type": "code",
   "execution_count": 2,
   "metadata": {
    "scrolled": true
   },
   "outputs": [
    {
     "data": {
      "text/html": [
       "<div>\n",
       "<style>\n",
       "    .dataframe thead tr:only-child th {\n",
       "        text-align: right;\n",
       "    }\n",
       "\n",
       "    .dataframe thead th {\n",
       "        text-align: left;\n",
       "    }\n",
       "\n",
       "    .dataframe tbody tr th {\n",
       "        vertical-align: top;\n",
       "    }\n",
       "</style>\n",
       "<table border=\"1\" class=\"dataframe\">\n",
       "  <thead>\n",
       "    <tr style=\"text-align: right;\">\n",
       "      <th></th>\n",
       "      <th>publisher</th>\n",
       "      <th>title</th>\n",
       "    </tr>\n",
       "  </thead>\n",
       "  <tbody>\n",
       "    <tr>\n",
       "      <th>0</th>\n",
       "      <td>Livemint</td>\n",
       "      <td>fed's charles plosser sees high bar for change...</td>\n",
       "    </tr>\n",
       "    <tr>\n",
       "      <th>1</th>\n",
       "      <td>IFA Magazine</td>\n",
       "      <td>us open: stocks fall after fed official hints ...</td>\n",
       "    </tr>\n",
       "    <tr>\n",
       "      <th>2</th>\n",
       "      <td>IFA Magazine</td>\n",
       "      <td>fed risks falling 'behind the curve', charles ...</td>\n",
       "    </tr>\n",
       "    <tr>\n",
       "      <th>3</th>\n",
       "      <td>Moneynews</td>\n",
       "      <td>fed's plosser: nasty weather has curbed job gr...</td>\n",
       "    </tr>\n",
       "    <tr>\n",
       "      <th>4</th>\n",
       "      <td>NASDAQ</td>\n",
       "      <td>plosser: fed may have to accelerate tapering pace</td>\n",
       "    </tr>\n",
       "  </tbody>\n",
       "</table>\n",
       "</div>"
      ],
      "text/plain": [
       "      publisher                                              title\n",
       "0      Livemint  fed's charles plosser sees high bar for change...\n",
       "1  IFA Magazine  us open: stocks fall after fed official hints ...\n",
       "2  IFA Magazine  fed risks falling 'behind the curve', charles ...\n",
       "3     Moneynews  fed's plosser: nasty weather has curbed job gr...\n",
       "4        NASDAQ  plosser: fed may have to accelerate tapering pace"
      ]
     },
     "execution_count": 2,
     "metadata": {},
     "output_type": "execute_result"
    }
   ],
   "source": [
    "import pandas as pd\n",
    "\n",
    "# Extract text column from a dataframe\n",
    "df = pd.read_csv(os.path.join(\"data\", \"news.csv\"))\n",
    "df.head()[['publisher', 'title']]\n",
    "\n",
    "# Convert text column to lowercase\n",
    "df['title'] = df['title'].str.lower()\n",
    "df.head()[['publisher', 'title']]"
   ]
  },
  {
   "cell_type": "markdown",
   "metadata": {},
   "source": [
    "### Online Resource"
   ]
  },
  {
   "cell_type": "code",
   "execution_count": 3,
   "metadata": {
    "scrolled": true
   },
   "outputs": [
    {
     "name": "stdout",
     "output_type": "stream",
     "text": [
      "{\n",
      "    \"success\": {\n",
      "        \"total\": 1\n",
      "    },\n",
      "    \"contents\": {\n",
      "        \"quotes\": [\n",
      "            {\n",
      "                \"quote\": \"Only a man who knows what it is like to be defeated can reach down to the bottom of his soul and come up with the extra ounce of power it takes to win when the match is even.\",\n",
      "                \"author\": \"Mohamad Ali\",\n",
      "                \"length\": null,\n",
      "                \"tags\": [\n",
      "                    \"failure\",\n",
      "                    \"inspire\",\n",
      "                    \"learning-from-failure\"\n",
      "                ],\n",
      "                \"category\": \"inspire\",\n",
      "                \"title\": \"Inspiring Quote of the day\",\n",
      "                \"date\": \"2019-02-23\",\n",
      "                \"id\": null\n",
      "            }\n",
      "        ],\n",
      "        \"copyright\": \"2017-19 theysaidso.com\"\n",
      "    }\n",
      "}\n",
      "Only a man who knows what it is like to be defeated can reach down to the bottom of his soul and come up with the extra ounce of power it takes to win when the match is even. \n",
      "-- Mohamad Ali\n"
     ]
    }
   ],
   "source": [
    "import requests\n",
    "import json\n",
    "\n",
    "# Fetch data from a REST API\n",
    "r = requests.get(\n",
    "    \"https://quotes.rest/qod.json\")\n",
    "res = r.json()\n",
    "print(json.dumps(res, indent=4))\n",
    "\n",
    "# Extract relevant object and field\n",
    "q = res[\"contents\"][\"quotes\"][0]\n",
    "print(q[\"quote\"], \"\\n--\", q[\"author\"])"
   ]
  },
  {
   "cell_type": "markdown",
   "metadata": {},
   "source": [
    "## Cleaning"
   ]
  },
  {
   "cell_type": "code",
   "execution_count": 4,
   "metadata": {
    "scrolled": true
   },
   "outputs": [
    {
     "name": "stdout",
     "output_type": "stream",
     "text": [
      "<html op=\"news\"><head><meta name=\"referrer\" content=\"origin\"><meta name=\"viewport\" content=\"width=device-width, initial-scale=1.0\"><link rel=\"stylesheet\" type=\"text/css\" href=\"news.css?cQLJmfCAtx2wdZ34zW8g\">\n",
      "            <link rel=\"shortcut icon\" href=\"favicon.ico\">\n",
      "          <link rel=\"alternate\" type=\"application/rss+xml\" title=\"RSS\" href=\"rss\">\n",
      "        <title>Hacker News</title></head><body><center><table id=\"hnmain\" border=\"0\" cellpadding=\"0\" cellspacing=\"0\" width=\"85%\" bgcolor=\"#f6f6ef\">\n",
      "        <tr><td bgcolor=\"#ff6600\"><table border=\"0\" cellpadding=\"0\" cellspacing=\"0\" width=\"100%\" style=\"padding:2px\"><tr><td style=\"width:18px;padding-right:4px\"><a href=\"https://news.ycombinator.com\"><img src=\"y18.gif\" width=\"18\" height=\"18\" style=\"border:1px white solid;\"></a></td>\n",
      "                  <td style=\"line-height:12pt; height:10px;\"><span class=\"pagetop\"><b class=\"hnname\"><a href=\"news\">Hacker News</a></b>\n",
      "              <a href=\"newest\">new</a> | <a href=\"front\">more</a> | <a href=\"newcomments\">comments</a> | <a href=\"ask\">ask</a> | <a href=\"show\">show</a> | <a href=\"jobs\">jobs</a> | <a href=\"submit\">submit</a>            </span></td><td style=\"text-align:right;padding-right:4px;\"><span class=\"pagetop\">\n",
      "                              <a href=\"login?goto=news\">login</a>\n",
      "                          </span></td>\n",
      "              </tr></table></td></tr>\n",
      "<tr id=\"pagespace\" title=\"\" style=\"height:10px\"></tr><tr><td><table border=\"0\" cellpadding=\"0\" cellspacing=\"0\" class=\"itemlist\">\n",
      "              <tr class='athing' id='19228744'>\n",
      "      <td align=\"right\" valign=\"top\" class=\"title\"><span class=\"rank\">1.</span></td>      <td valign=\"top\" class=\"votelinks\"><center><a id='up_19228744' href='vote?id=19228744&amp;how=up&amp;goto=news'><div class='votearrow' title='upvote'></div></a></center></td><td class=\"title\"><a href=\"https://www.reuters.com/article/facebook-new-york/new-york-governor-cuomo-orders-probe-into-facebook-access-to-personal-data-idUSKCN1QB2BK\" class=\"storylink\">New York governor orders probe into Facebook access to data from other apps</a><span class=\"sitebit comhead\"> (<a href=\"from?site=reuters.com\"><span class=\"sitestr\">reuters.com</span></a>)</span></td></tr><tr><td colspan=\"2\"></td><td class=\"subtext\">\n",
      "        <span class=\"score\" id=\"score_19228744\">341 points</span> by <a href=\"user?id=tareqak\" class=\"hnuser\">tareqak</a> <span class=\"age\"><a href=\"item?id=19228744\">12 hours ago</a></span> <span id=\"unv_19228744\"></span> | <a href=\"hide?id=19228744&amp;goto=news\">hide</a> | <a href=\"item?id=19228744\">71&nbsp;comments</a>              </td></tr>\n",
      "      <tr class=\"spacer\" style=\"height:5px\"></tr>\n",
      "                <tr class='athing' id='19232068'>\n",
      "      <td align=\"right\" valign=\"top\" class=\"title\"><span class=\"rank\">2.</span></td>      <td valign=\"top\" class=\"votelinks\"><center><a id='up_19232068' href='vote?id=19232068&amp;how=up&amp;goto=news'><div class='votearrow' title='upvote'></div></a></center></td><td class=\"title\"><a href=\"https://beautifulracket.com/appendix/why-lop-why-racket.html\" class=\"storylink\">Why Language-Oriented Programming? Why Racket?</a><span class=\"sitebit comhead\"> (<a href=\"from?site=beautifulracket.com\"><span class=\"sitestr\">beautifulracket.com</span></a>)</span></td></tr><tr><td colspan=\"2\"></td><td class=\"subtext\">\n",
      "        <span class=\"score\" id=\"score_19232068\">23 points</span> by <a href=\"user?id=jessealama\" class=\"hnuser\">jessealama</a> <span class=\"age\"><a href=\"item?id=19232068\">2 hours ago</a></span> <span id=\"unv_19232068\"></span> | <a href=\"hide?id=19232068&amp;goto=news\">hide</a> | <a href=\"item?id=19232068\">discuss</a>              </td></tr>\n",
      "      <tr class=\"spacer\" style=\"height:5px\"></tr>\n",
      "                <tr class='athing' id='19231088'>\n",
      "      <td align=\"right\" valign=\"top\" class=\"title\"><span class=\"rank\">3.</span></td>      <td valign=\"top\" class=\"votelinks\"><center><a id='up_19231088' href='vote?id=19231088&amp;how=up&amp;goto=news'><div class='votearrow' title='upvote'></div></a></center></td><td class=\"title\"><a href=\"https://www.economist.com/books-and-arts/2019/02/23/life-and-society-are-increasingly-governed-by-numbers\" class=\"storylink\">Life and society are increasingly governed by numbers</a><span class=\"sitebit comhead\"> (<a href=\"from?site=economist.com\"><span class=\"sitestr\">economist.com</span></a>)</span></td></tr><tr><td colspan=\"2\"></td><td class=\"subtext\">\n",
      "        <span class=\"score\" id=\"score_19231088\">99 points</span> by <a href=\"user?id=jkuria\" class=\"hnuser\">jkuria</a> <span class=\"age\"><a href=\"item?id=19231088\">7 hours ago</a></span> <span id=\"unv_19231088\"></span> | <a href=\"hide?id=19231088&amp;goto=news\">hide</a> | <a href=\"item?id=19231088\">33&nbsp;comments</a>              </td></tr>\n",
      "      <tr class=\"spacer\" style=\"height:5px\"></tr>\n",
      "                <tr class='athing' id='19228452'>\n",
      "      <td align=\"right\" valign=\"top\" class=\"title\"><span class=\"rank\">4.</span></td>      <td valign=\"top\" class=\"votelinks\"><center><a id='up_19228452' href='vote?id=19228452&amp;how=up&amp;goto=news'><div class='votearrow' title='upvote'></div></a></center></td><td class=\"title\"><a href=\"https://news.ycombinator.com/front\" class=\"storylink\">New 'more' link on HN front page</a><span class=\"sitebit comhead\"> (<a href=\"from?site=ycombinator.com\"><span class=\"sitestr\">ycombinator.com</span></a>)</span></td></tr><tr><td colspan=\"2\"></td><td class=\"subtext\">\n",
      "        <span class=\"score\" id=\"score_19228452\">283 points</span> by <a href=\"user?id=Y_Y\" class=\"hnuser\">Y_Y</a> <span class=\"age\"><a href=\"item?id=19228452\">13 hours ago</a></span> <span id=\"unv_19228452\"></span> | <a href=\"hide?id=19228452&amp;goto=news\">hide</a> | <a href=\"item?id=19228452\">138&nbsp;comments</a>              </td></tr>\n",
      "      <tr class=\"spacer\" style=\"height:5px\"></tr>\n",
      "                <tr class='athing' id='19223188'>\n",
      "      <td align=\"right\" valign=\"top\" class=\"title\"><span class=\"rank\">5.</span></td>      <td valign=\"top\" class=\"votelinks\"><center><a id='up_19223188' href='vote?id=19223188&amp;how=up&amp;goto=news'><div class='votearrow' title='upvote'></div></a></center></td><td class=\"title\"><a href=\"https://www.wired.com/story/when-algorithms-think-you-want-to-die/\" class=\"storylink\">When Algorithms Think You Want to Die</a><span class=\"sitebit comhead\"> (<a href=\"from?site=wired.com\"><span class=\"sitestr\">wired.com</span></a>)</span></td></tr><tr><td colspan=\"2\"></td><td class=\"subtext\">\n",
      "        <span class=\"score\" id=\"score_19223188\">46 points</span> by <a href=\"user?id=iron0013\" class=\"hnuser\">iron0013</a> <span class=\"age\"><a href=\"item?id=19223188\">6 hours ago</a></span> <span id=\"unv_19223188\"></span> | <a href=\"hide?id=19223188&amp;goto=news\">hide</a> | <a href=\"item?id=19223188\">28&nbsp;comments</a>              </td></tr>\n",
      "      <tr class=\"spacer\" style=\"height:5px\"></tr>\n",
      "                <tr class='athing' id='19230570'>\n",
      "      <td align=\"right\" valign=\"top\" class=\"title\"><span class=\"rank\">6.</span></td>      <td valign=\"top\" class=\"votelinks\"><center><a id='up_19230570' href='vote?id=19230570&amp;how=up&amp;goto=news'><div class='votearrow' title='upvote'></div></a></center></td><td class=\"title\"><a href=\"https://gcaptain.com/whys-a-big-red-tanker-drifting-near-boston/\" class=\"storylink\">Why's a Big Red Tanker Drifting Near Boston?</a><span class=\"sitebit comhead\"> (<a href=\"from?site=gcaptain.com\"><span class=\"sitestr\">gcaptain.com</span></a>)</span></td></tr><tr><td colspan=\"2\"></td><td class=\"subtext\">\n",
      "        <span class=\"score\" id=\"score_19230570\">79 points</span> by <a href=\"user?id=protomyth\" class=\"hnuser\">protomyth</a> <span class=\"age\"><a href=\"item?id=19230570\">8 hours ago</a></span> <span id=\"unv_19230570\"></span> | <a href=\"hide?id=19230570&amp;goto=news\">hide</a> | <a href=\"item?id=19230570\">67&nbsp;comments</a>              </td></tr>\n",
      "      <tr class=\"spacer\" style=\"height:5px\"></tr>\n",
      "                <tr class='athing' id='19231075'>\n",
      "      <td align=\"right\" valign=\"top\" class=\"title\"><span class=\"rank\">7.</span></td>      <td valign=\"top\" class=\"votelinks\"><center><a id='up_19231075' href='vote?id=19231075&amp;how=up&amp;goto=news'><div class='votearrow' title='upvote'></div></a></center></td><td class=\"title\"><a href=\"https://www.economist.com/business/2019/02/23/why-retired-people-could-be-ideal-customers-for-self-driving-cars\" class=\"storylink\">Retired People Could Be Ideal Customers for Self-Driving Cars</a><span class=\"sitebit comhead\"> (<a href=\"from?site=economist.com\"><span class=\"sitestr\">economist.com</span></a>)</span></td></tr><tr><td colspan=\"2\"></td><td class=\"subtext\">\n",
      "        <span class=\"score\" id=\"score_19231075\">35 points</span> by <a href=\"user?id=jkuria\" class=\"hnuser\">jkuria</a> <span class=\"age\"><a href=\"item?id=19231075\">7 hours ago</a></span> <span id=\"unv_19231075\"></span> | <a href=\"hide?id=19231075&amp;goto=news\">hide</a> | <a href=\"item?id=19231075\">25&nbsp;comments</a>              </td></tr>\n",
      "      <tr class=\"spacer\" style=\"height:5px\"></tr>\n",
      "                <tr class='athing' id='19229510'>\n",
      "      <td align=\"right\" valign=\"top\" class=\"title\"><span class=\"rank\">8.</span></td>      <td valign=\"top\" class=\"votelinks\"><center><a id='up_19229510' href='vote?id=19229510&amp;how=up&amp;goto=news'><div class='votearrow' title='upvote'></div></a></center></td><td class=\"title\"><a href=\"https://www.anandtech.com/show/13973/nvidia-gtx-1660-ti-review-feat-evga-xc-gaming\" class=\"storylink\">Nvidia GeForce GTX 1660 Ti 6GB Review</a><span class=\"sitebit comhead\"> (<a href=\"from?site=anandtech.com\"><span class=\"sitestr\">anandtech.com</span></a>)</span></td></tr><tr><td colspan=\"2\"></td><td class=\"subtext\">\n",
      "        <span class=\"score\" id=\"score_19229510\">73 points</span> by <a href=\"user?id=babak_ap\" class=\"hnuser\">babak_ap</a> <span class=\"age\"><a href=\"item?id=19229510\">11 hours ago</a></span> <span id=\"unv_19229510\"></span> | <a href=\"hide?id=19229510&amp;goto=news\">hide</a> | <a href=\"item?id=19229510\">53&nbsp;comments</a>              </td></tr>\n",
      "      <tr class=\"spacer\" style=\"height:5px\"></tr>\n",
      "                <tr class='athing' id='19231322'>\n",
      "      <td align=\"right\" valign=\"top\" class=\"title\"><span class=\"rank\">9.</span></td>      <td valign=\"top\" class=\"votelinks\"><center><a id='up_19231322' href='vote?id=19231322&amp;how=up&amp;goto=news'><div class='votearrow' title='upvote'></div></a></center></td><td class=\"title\"><a href=\"http://mcpp.sourceforge.net\" class=\"storylink\">Mcpp: A Portable C Preprocessor</a><span class=\"sitebit comhead\"> (<a href=\"from?site=sourceforge.net\"><span class=\"sitestr\">sourceforge.net</span></a>)</span></td></tr><tr><td colspan=\"2\"></td><td class=\"subtext\">\n",
      "        <span class=\"score\" id=\"score_19231322\">15 points</span> by <a href=\"user?id=blacksqr\" class=\"hnuser\">blacksqr</a> <span class=\"age\"><a href=\"item?id=19231322\">5 hours ago</a></span> <span id=\"unv_19231322\"></span> | <a href=\"hide?id=19231322&amp;goto=news\">hide</a> | <a href=\"item?id=19231322\">2&nbsp;comments</a>              </td></tr>\n",
      "      <tr class=\"spacer\" style=\"height:5px\"></tr>\n",
      "                <tr class='athing' id='19231966'>\n",
      "      <td align=\"right\" valign=\"top\" class=\"title\"><span class=\"rank\">10.</span></td>      <td valign=\"top\" class=\"votelinks\"><center><a id='up_19231966' href='vote?id=19231966&amp;how=up&amp;goto=news'><div class='votearrow' title='upvote'></div></a></center></td><td class=\"title\"><a href=\"https://www.youtube.com/watch?v=Hpu5IxLIPR8\" class=\"storylink\" rel=\"nofollow\">Software Piracy Birthed an Underground Art Scene (2018) [video]</a><span class=\"sitebit comhead\"> (<a href=\"from?site=youtube.com\"><span class=\"sitestr\">youtube.com</span></a>)</span></td></tr><tr><td colspan=\"2\"></td><td class=\"subtext\">\n",
      "        <span class=\"score\" id=\"score_19231966\">10 points</span> by <a href=\"user?id=bane\" class=\"hnuser\">bane</a> <span class=\"age\"><a href=\"item?id=19231966\">2 hours ago</a></span> <span id=\"unv_19231966\"></span> | <a href=\"hide?id=19231966&amp;goto=news\">hide</a> | <a href=\"item?id=19231966\">3&nbsp;comments</a>              </td></tr>\n",
      "      <tr class=\"spacer\" style=\"height:5px\"></tr>\n",
      "                <tr class='athing' id='19227441'>\n",
      "      <td align=\"right\" valign=\"top\" class=\"title\"><span class=\"rank\">11.</span></td>      <td valign=\"top\" class=\"votelinks\"><center><a id='up_19227441' href='vote?id=19227441&amp;how=up&amp;goto=news'><div class='votearrow' title='upvote'></div></a></center></td><td class=\"title\"><a href=\"item?id=19227441\" class=\"storylink\">Launch HN: Modern Labor (YC W19) – Paying People to Learn to Code</a></td></tr><tr><td colspan=\"2\"></td><td class=\"subtext\">\n",
      "        <span class=\"score\" id=\"score_19227441\">211 points</span> by <a href=\"user?id=asd33313131\" class=\"hnuser\">asd33313131</a> <span class=\"age\"><a href=\"item?id=19227441\">15 hours ago</a></span> <span id=\"unv_19227441\"></span> | <a href=\"hide?id=19227441&amp;goto=news\">hide</a> | <a href=\"item?id=19227441\">235&nbsp;comments</a>              </td></tr>\n",
      "      <tr class=\"spacer\" style=\"height:5px\"></tr>\n",
      "                <tr class='athing' id='19231567'>\n",
      "      <td align=\"right\" valign=\"top\" class=\"title\"><span class=\"rank\">12.</span></td>      <td valign=\"top\" class=\"votelinks\"><center><a id='up_19231567' href='vote?id=19231567&amp;how=up&amp;goto=news'><div class='votearrow' title='upvote'></div></a></center></td><td class=\"title\"><a href=\"https://twitter.com/sama/status/1096822724217827328\" class=\"storylink\">Sam Altman: Bay Area is no longer the obvious place for startups</a><span class=\"sitebit comhead\"> (<a href=\"from?site=twitter.com\"><span class=\"sitestr\">twitter.com</span></a>)</span></td></tr><tr><td colspan=\"2\"></td><td class=\"subtext\">\n",
      "        <span class=\"score\" id=\"score_19231567\">149 points</span> by <a href=\"user?id=everbody\" class=\"hnuser\">everbody</a> <span class=\"age\"><a href=\"item?id=19231567\">4 hours ago</a></span> <span id=\"unv_19231567\"></span> | <a href=\"hide?id=19231567&amp;goto=news\">hide</a> | <a href=\"item?id=19231567\">123&nbsp;comments</a>              </td></tr>\n",
      "      <tr class=\"spacer\" style=\"height:5px\"></tr>\n",
      "                <tr class='athing' id='19232144'>\n",
      "      <td align=\"right\" valign=\"top\" class=\"title\"><span class=\"rank\">13.</span></td>      <td valign=\"top\" class=\"votelinks\"><center><a id='up_19232144' href='vote?id=19232144&amp;how=up&amp;goto=news'><div class='votearrow' title='upvote'></div></a></center></td><td class=\"title\"><a href=\"https://www.machinelearningplus.com/machine-learning/caret-package/\" class=\"storylink\" rel=\"nofollow\">Simplest and an Extremely Well-Written Tutorial on Caret Package in R</a><span class=\"sitebit comhead\"> (<a href=\"from?site=machinelearningplus.com\"><span class=\"sitestr\">machinelearningplus.com</span></a>)</span></td></tr><tr><td colspan=\"2\"></td><td class=\"subtext\">\n",
      "        <span class=\"score\" id=\"score_19232144\">7 points</span> by <a href=\"user?id=selva86\" class=\"hnuser\">selva86</a> <span class=\"age\"><a href=\"item?id=19232144\">1 hour ago</a></span> <span id=\"unv_19232144\"></span> | <a href=\"hide?id=19232144&amp;goto=news\">hide</a> | <a href=\"item?id=19232144\">discuss</a>              </td></tr>\n",
      "      <tr class=\"spacer\" style=\"height:5px\"></tr>\n",
      "                <tr class='athing' id='19225424'>\n",
      "      <td align=\"right\" valign=\"top\" class=\"title\"><span class=\"rank\">14.</span></td>      <td valign=\"top\" class=\"votelinks\"><center><a id='up_19225424' href='vote?id=19225424&amp;how=up&amp;goto=news'><div class='votearrow' title='upvote'></div></a></center></td><td class=\"title\"><a href=\"https://harpers.org/archive/2019/03/the-story-of-storytelling/\" class=\"storylink\">The Story of Storytelling</a><span class=\"sitebit comhead\"> (<a href=\"from?site=harpers.org\"><span class=\"sitestr\">harpers.org</span></a>)</span></td></tr><tr><td colspan=\"2\"></td><td class=\"subtext\">\n",
      "        <span class=\"score\" id=\"score_19225424\">23 points</span> by <a href=\"user?id=longdefeat\" class=\"hnuser\">longdefeat</a> <span class=\"age\"><a href=\"item?id=19225424\">6 hours ago</a></span> <span id=\"unv_19225424\"></span> | <a href=\"hide?id=19225424&amp;goto=news\">hide</a> | <a href=\"item?id=19225424\">1&nbsp;comment</a>              </td></tr>\n",
      "      <tr class=\"spacer\" style=\"height:5px\"></tr>\n",
      "                <tr class='athing' id='19222748'>\n",
      "      <td align=\"right\" valign=\"top\" class=\"title\"><span class=\"rank\">15.</span></td>      <td valign=\"top\" class=\"votelinks\"><center><a id='up_19222748' href='vote?id=19222748&amp;how=up&amp;goto=news'><div class='votearrow' title='upvote'></div></a></center></td><td class=\"title\"><a href=\"https://www.nytimes.com/2019/02/20/books/review/charles-bukowski-on-drinking.html\" class=\"storylink\">What Charles Bukowski’s Glamorous Displays of Alcoholism Left Out</a><span class=\"sitebit comhead\"> (<a href=\"from?site=nytimes.com\"><span class=\"sitestr\">nytimes.com</span></a>)</span></td></tr><tr><td colspan=\"2\"></td><td class=\"subtext\">\n",
      "        <span class=\"score\" id=\"score_19222748\">102 points</span> by <a href=\"user?id=samclemens\" class=\"hnuser\">samclemens</a> <span class=\"age\"><a href=\"item?id=19222748\">15 hours ago</a></span> <span id=\"unv_19222748\"></span> | <a href=\"hide?id=19222748&amp;goto=news\">hide</a> | <a href=\"item?id=19222748\">63&nbsp;comments</a>              </td></tr>\n",
      "      <tr class=\"spacer\" style=\"height:5px\"></tr>\n",
      "                <tr class='athing' id='19227970'>\n",
      "      <td align=\"right\" valign=\"top\" class=\"title\"><span class=\"rank\">16.</span></td>      <td valign=\"top\" class=\"votelinks\"><center><a id='up_19227970' href='vote?id=19227970&amp;how=up&amp;goto=news'><div class='votearrow' title='upvote'></div></a></center></td><td class=\"title\"><a href=\"https://www.newstatesman.com/2019/02/%20john-ruskin-200-anniversary-to-see-clearly-book-power-seeing-exhibition-review\" class=\"storylink\" rel=\"nofollow\">John Ruskin: A Prophet for Our Troubled Times</a><span class=\"sitebit comhead\"> (<a href=\"from?site=newstatesman.com\"><span class=\"sitestr\">newstatesman.com</span></a>)</span></td></tr><tr><td colspan=\"2\"></td><td class=\"subtext\">\n",
      "        <span class=\"score\" id=\"score_19227970\">4 points</span> by <a href=\"user?id=apollinaire\" class=\"hnuser\">apollinaire</a> <span class=\"age\"><a href=\"item?id=19227970\">2 hours ago</a></span> <span id=\"unv_19227970\"></span> | <a href=\"hide?id=19227970&amp;goto=news\">hide</a> | <a href=\"item?id=19227970\">discuss</a>              </td></tr>\n",
      "      <tr class=\"spacer\" style=\"height:5px\"></tr>\n",
      "                <tr class='athing' id='19218313'>\n",
      "      <td align=\"right\" valign=\"top\" class=\"title\"><span class=\"rank\">17.</span></td>      <td valign=\"top\" class=\"votelinks\"><center><a id='up_19218313' href='vote?id=19218313&amp;how=up&amp;goto=news'><div class='votearrow' title='upvote'></div></a></center></td><td class=\"title\"><a href=\"https://medium.com/@jamesacowling/dont-lead-by-example-4f86b1174e64\" class=\"storylink\">Don’t Lead by Example</a><span class=\"sitebit comhead\"> (<a href=\"from?site=medium.com\"><span class=\"sitestr\">medium.com</span></a>)</span></td></tr><tr><td colspan=\"2\"></td><td class=\"subtext\">\n",
      "        <span class=\"score\" id=\"score_19218313\">17 points</span> by <a href=\"user?id=theBashShell\" class=\"hnuser\">theBashShell</a> <span class=\"age\"><a href=\"item?id=19218313\">4 hours ago</a></span> <span id=\"unv_19218313\"></span> | <a href=\"hide?id=19218313&amp;goto=news\">hide</a> | <a href=\"item?id=19218313\">12&nbsp;comments</a>              </td></tr>\n",
      "      <tr class=\"spacer\" style=\"height:5px\"></tr>\n",
      "                <tr class='athing' id='19231115'>\n",
      "      <td align=\"right\" valign=\"top\" class=\"title\"><span class=\"rank\">18.</span></td>      <td valign=\"top\" class=\"votelinks\"><center><a id='up_19231115' href='vote?id=19231115&amp;how=up&amp;goto=news'><div class='votearrow' title='upvote'></div></a></center></td><td class=\"title\"><a href=\"https://www.wsj.com/articles/a-kitchenaid-recipe-for-a-tight-job-market-11550840415\" class=\"storylink\">KitchenAid’s Key Ingredient: Investing in Workers</a><span class=\"sitebit comhead\"> (<a href=\"from?site=wsj.com\"><span class=\"sitestr\">wsj.com</span></a>)</span></td></tr><tr><td colspan=\"2\"></td><td class=\"subtext\">\n",
      "        <span class=\"score\" id=\"score_19231115\">19 points</span> by <a href=\"user?id=CaliforniaKarl\" class=\"hnuser\">CaliforniaKarl</a> <span class=\"age\"><a href=\"item?id=19231115\">6 hours ago</a></span> <span id=\"unv_19231115\"></span> | <a href=\"hide?id=19231115&amp;goto=news\">hide</a> | <a href=\"item?id=19231115\">2&nbsp;comments</a>              </td></tr>\n",
      "      <tr class=\"spacer\" style=\"height:5px\"></tr>\n",
      "                <tr class='athing' id='19225268'>\n",
      "      <td align=\"right\" valign=\"top\" class=\"title\"><span class=\"rank\">19.</span></td>      <td valign=\"top\" class=\"votelinks\"><center><a id='up_19225268' href='vote?id=19225268&amp;how=up&amp;goto=news'><div class='votearrow' title='upvote'></div></a></center></td><td class=\"title\"><a href=\"http://www.oldlinux.org/download/ECLK-5.0-WithCover.pdf\" class=\"storylink\">A Heavily-Commented Linux Kernel Source Code [pdf]</a><span class=\"sitebit comhead\"> (<a href=\"from?site=oldlinux.org\"><span class=\"sitestr\">oldlinux.org</span></a>)</span></td></tr><tr><td colspan=\"2\"></td><td class=\"subtext\">\n",
      "        <span class=\"score\" id=\"score_19225268\">641 points</span> by <a href=\"user?id=turingbook\" class=\"hnuser\">turingbook</a> <span class=\"age\"><a href=\"item?id=19225268\">19 hours ago</a></span> <span id=\"unv_19225268\"></span> | <a href=\"hide?id=19225268&amp;goto=news\">hide</a> | <a href=\"item?id=19225268\">33&nbsp;comments</a>              </td></tr>\n",
      "      <tr class=\"spacer\" style=\"height:5px\"></tr>\n",
      "                <tr class='athing' id='19223377'>\n",
      "      <td align=\"right\" valign=\"top\" class=\"title\"><span class=\"rank\">20.</span></td>      <td valign=\"top\" class=\"votelinks\"><center><a id='up_19223377' href='vote?id=19223377&amp;how=up&amp;goto=news'><div class='votearrow' title='upvote'></div></a></center></td><td class=\"title\"><a href=\"https://www.theguardian.com/environment/2019/feb/21/worlds-largest-bee-missing-for-38-years-found-in-indonesia\" class=\"storylink\">World's largest bee, missing for 38 years, found alive in Indonesia</a><span class=\"sitebit comhead\"> (<a href=\"from?site=theguardian.com\"><span class=\"sitestr\">theguardian.com</span></a>)</span></td></tr><tr><td colspan=\"2\"></td><td class=\"subtext\">\n",
      "        <span class=\"score\" id=\"score_19223377\">39 points</span> by <a href=\"user?id=pseudolus\" class=\"hnuser\">pseudolus</a> <span class=\"age\"><a href=\"item?id=19223377\">10 hours ago</a></span> <span id=\"unv_19223377\"></span> | <a href=\"hide?id=19223377&amp;goto=news\">hide</a> | <a href=\"item?id=19223377\">5&nbsp;comments</a>              </td></tr>\n",
      "      <tr class=\"spacer\" style=\"height:5px\"></tr>\n",
      "                <tr class='athing' id='19227070'>\n",
      "      <td align=\"right\" valign=\"top\" class=\"title\"><span class=\"rank\">21.</span></td>      <td valign=\"top\" class=\"votelinks\"><center><a id='up_19227070' href='vote?id=19227070&amp;how=up&amp;goto=news'><div class='votearrow' title='upvote'></div></a></center></td><td class=\"title\"><a href=\"http://antirez.com/news/126\" class=\"storylink\">An update about Redis developments in 2019</a><span class=\"sitebit comhead\"> (<a href=\"from?site=antirez.com\"><span class=\"sitestr\">antirez.com</span></a>)</span></td></tr><tr><td colspan=\"2\"></td><td class=\"subtext\">\n",
      "        <span class=\"score\" id=\"score_19227070\">297 points</span> by <a href=\"user?id=mykowebhn\" class=\"hnuser\">mykowebhn</a> <span class=\"age\"><a href=\"item?id=19227070\">15 hours ago</a></span> <span id=\"unv_19227070\"></span> | <a href=\"hide?id=19227070&amp;goto=news\">hide</a> | <a href=\"item?id=19227070\">77&nbsp;comments</a>              </td></tr>\n",
      "      <tr class=\"spacer\" style=\"height:5px\"></tr>\n",
      "                <tr class='athing' id='19223694'>\n",
      "      <td align=\"right\" valign=\"top\" class=\"title\"><span class=\"rank\">22.</span></td>      <td valign=\"top\" class=\"votelinks\"><center><a id='up_19223694' href='vote?id=19223694&amp;how=up&amp;goto=news'><div class='votearrow' title='upvote'></div></a></center></td><td class=\"title\"><a href=\"https://www.wsj.com/articles/inheriting-the-trauma-of-genocide-11550761430\" class=\"storylink\">Inheriting the Trauma of Genocide</a><span class=\"sitebit comhead\"> (<a href=\"from?site=wsj.com\"><span class=\"sitestr\">wsj.com</span></a>)</span></td></tr><tr><td colspan=\"2\"></td><td class=\"subtext\">\n",
      "        <span class=\"score\" id=\"score_19223694\">62 points</span> by <a href=\"user?id=niyikiza\" class=\"hnuser\">niyikiza</a> <span class=\"age\"><a href=\"item?id=19223694\">14 hours ago</a></span> <span id=\"unv_19223694\"></span> | <a href=\"hide?id=19223694&amp;goto=news\">hide</a> | <a href=\"item?id=19223694\">34&nbsp;comments</a>              </td></tr>\n",
      "      <tr class=\"spacer\" style=\"height:5px\"></tr>\n",
      "                <tr class='athing' id='19232340'>\n",
      "      <td align=\"right\" valign=\"top\" class=\"title\"><span class=\"rank\">23.</span></td>      <td valign=\"top\" class=\"votelinks\"><center><a id='up_19232340' href='vote?id=19232340&amp;how=up&amp;goto=news'><div class='votearrow' title='upvote'></div></a></center></td><td class=\"title\"><a href=\"https://www.youtube.com/watch?v=s0oeeXjyHiw\" class=\"storylink\" rel=\"nofollow\">Bill Maher Tells Amazon's Jeff Bezos to “Take One for the Team”</a><span class=\"sitebit comhead\"> (<a href=\"from?site=youtube.com\"><span class=\"sitestr\">youtube.com</span></a>)</span></td></tr><tr><td colspan=\"2\"></td><td class=\"subtext\">\n",
      "        <span class=\"score\" id=\"score_19232340\">4 points</span> by <a href=\"user?id=mplanner\" class=\"hnuser\">mplanner</a> <span class=\"age\"><a href=\"item?id=19232340\">37 minutes ago</a></span> <span id=\"unv_19232340\"></span> | <a href=\"hide?id=19232340&amp;goto=news\">hide</a> | <a href=\"item?id=19232340\">discuss</a>              </td></tr>\n",
      "      <tr class=\"spacer\" style=\"height:5px\"></tr>\n",
      "                <tr class='athing' id='19228508'>\n",
      "      <td align=\"right\" valign=\"top\" class=\"title\"><span class=\"rank\">24.</span></td>      <td valign=\"top\" class=\"votelinks\"><center><a id='up_19228508' href='vote?id=19228508&amp;how=up&amp;goto=news'><div class='votearrow' title='upvote'></div></a></center></td><td class=\"title\"><a href=\"https://slatestarcodex.com/2019/02/22/rip-culture-war-thread/\" class=\"storylink\">RIP Culture War Thread</a><span class=\"sitebit comhead\"> (<a href=\"from?site=slatestarcodex.com\"><span class=\"sitestr\">slatestarcodex.com</span></a>)</span></td></tr><tr><td colspan=\"2\"></td><td class=\"subtext\">\n",
      "        <span class=\"score\" id=\"score_19228508\">223 points</span> by <a href=\"user?id=whiddershins\" class=\"hnuser\">whiddershins</a> <span class=\"age\"><a href=\"item?id=19228508\">13 hours ago</a></span> <span id=\"unv_19228508\"></span> | <a href=\"hide?id=19228508&amp;goto=news\">hide</a> | <a href=\"item?id=19228508\">210&nbsp;comments</a>              </td></tr>\n",
      "      <tr class=\"spacer\" style=\"height:5px\"></tr>\n",
      "                <tr class='athing' id='19231079'>\n",
      "      <td align=\"right\" valign=\"top\" class=\"title\"><span class=\"rank\">25.</span></td>      <td valign=\"top\" class=\"votelinks\"><center><a id='up_19231079' href='vote?id=19231079&amp;how=up&amp;goto=news'><div class='votearrow' title='upvote'></div></a></center></td><td class=\"title\"><a href=\"https://www.asyousow.org/report/the-100-most-overpaid-ceos-2019\" class=\"storylink\">Overpaid CEOs 2019</a><span class=\"sitebit comhead\"> (<a href=\"from?site=asyousow.org\"><span class=\"sitestr\">asyousow.org</span></a>)</span></td></tr><tr><td colspan=\"2\"></td><td class=\"subtext\">\n",
      "        <span class=\"score\" id=\"score_19231079\">58 points</span> by <a href=\"user?id=Flott\" class=\"hnuser\">Flott</a> <span class=\"age\"><a href=\"item?id=19231079\">7 hours ago</a></span> <span id=\"unv_19231079\"></span> | <a href=\"hide?id=19231079&amp;goto=news\">hide</a> | <a href=\"item?id=19231079\">157&nbsp;comments</a>              </td></tr>\n",
      "      <tr class=\"spacer\" style=\"height:5px\"></tr>\n",
      "                <tr class='athing' id='19224579'>\n",
      "      <td align=\"right\" valign=\"top\" class=\"title\"><span class=\"rank\">26.</span></td>      <td valign=\"top\" class=\"votelinks\"><center><a id='up_19224579' href='vote?id=19224579&amp;how=up&amp;goto=news'><div class='votearrow' title='upvote'></div></a></center></td><td class=\"title\"><a href=\"https://www.realworldtech.com/forum/?threadid=183440&amp;curpostid=183486\" class=\"storylink\">Linus Torvalds on Why ARM Won't Win the Server Space</a><span class=\"sitebit comhead\"> (<a href=\"from?site=realworldtech.com\"><span class=\"sitestr\">realworldtech.com</span></a>)</span></td></tr><tr><td colspan=\"2\"></td><td class=\"subtext\">\n",
      "        <span class=\"score\" id=\"score_19224579\">426 points</span> by <a href=\"user?id=msh\" class=\"hnuser\">msh</a> <span class=\"age\"><a href=\"item?id=19224579\">21 hours ago</a></span> <span id=\"unv_19224579\"></span> | <a href=\"hide?id=19224579&amp;goto=news\">hide</a> | <a href=\"item?id=19224579\">468&nbsp;comments</a>              </td></tr>\n",
      "      <tr class=\"spacer\" style=\"height:5px\"></tr>\n",
      "                <tr class='athing' id='19220889'>\n",
      "      <td align=\"right\" valign=\"top\" class=\"title\"><span class=\"rank\">27.</span></td>      <td valign=\"top\" class=\"votelinks\"><center><a id='up_19220889' href='vote?id=19220889&amp;how=up&amp;goto=news'><div class='votearrow' title='upvote'></div></a></center></td><td class=\"title\"><a href=\"https://blog.stephenwolfram.com/2019/02/seeking-the-productive-life-some-details-of-my-personal-infrastructure/\" class=\"storylink\">Some Details of My Personal Infrastructure</a><span class=\"sitebit comhead\"> (<a href=\"from?site=stephenwolfram.com\"><span class=\"sitestr\">stephenwolfram.com</span></a>)</span></td></tr><tr><td colspan=\"2\"></td><td class=\"subtext\">\n",
      "        <span class=\"score\" id=\"score_19220889\">1170 points</span> by <a href=\"user?id=perardi\" class=\"hnuser\">perardi</a> <span class=\"age\"><a href=\"item?id=19220889\">1 day ago</a></span> <span id=\"unv_19220889\"></span> | <a href=\"hide?id=19220889&amp;goto=news\">hide</a> | <a href=\"item?id=19220889\">362&nbsp;comments</a>              </td></tr>\n",
      "      <tr class=\"spacer\" style=\"height:5px\"></tr>\n",
      "                <tr class='athing' id='19226355'>\n",
      "      <td align=\"right\" valign=\"top\" class=\"title\"><span class=\"rank\">28.</span></td>      <td valign=\"top\" class=\"votelinks\"><center><a id='up_19226355' href='vote?id=19226355&amp;how=up&amp;goto=news'><div class='votearrow' title='upvote'></div></a></center></td><td class=\"title\"><a href=\"https://www.macrumors.com/2019/02/22/apple-closing-stores-in-eastern-district-texas/\" class=\"storylink\">Apple to Close Stores in Eastern District of Texas to Fight Patent Trolls</a><span class=\"sitebit comhead\"> (<a href=\"from?site=macrumors.com\"><span class=\"sitestr\">macrumors.com</span></a>)</span></td></tr><tr><td colspan=\"2\"></td><td class=\"subtext\">\n",
      "        <span class=\"score\" id=\"score_19226355\">259 points</span> by <a href=\"user?id=aquabeagle\" class=\"hnuser\">aquabeagle</a> <span class=\"age\"><a href=\"item?id=19226355\">17 hours ago</a></span> <span id=\"unv_19226355\"></span> | <a href=\"hide?id=19226355&amp;goto=news\">hide</a> | <a href=\"item?id=19226355\">174&nbsp;comments</a>              </td></tr>\n",
      "      <tr class=\"spacer\" style=\"height:5px\"></tr>\n",
      "                <tr class='athing' id='19229433'>\n",
      "      <td align=\"right\" valign=\"top\" class=\"title\"><span class=\"rank\">29.</span></td>      <td valign=\"top\" class=\"votelinks\"><center><a id='up_19229433' href='vote?id=19229433&amp;how=up&amp;goto=news'><div class='votearrow' title='upvote'></div></a></center></td><td class=\"title\"><a href=\"http://www.fusor.net/board/viewtopic.php?t=12115#p78866\" class=\"storylink\">12-Year-Old Claims to Have Achieved Nuclear Fusion at Home (2018)</a><span class=\"sitebit comhead\"> (<a href=\"from?site=fusor.net\"><span class=\"sitestr\">fusor.net</span></a>)</span></td></tr><tr><td colspan=\"2\"></td><td class=\"subtext\">\n",
      "        <span class=\"score\" id=\"score_19229433\">192 points</span> by <a href=\"user?id=richardhod\" class=\"hnuser\">richardhod</a> <span class=\"age\"><a href=\"item?id=19229433\">11 hours ago</a></span> <span id=\"unv_19229433\"></span> | <a href=\"hide?id=19229433&amp;goto=news\">hide</a> | <a href=\"item?id=19229433\">79&nbsp;comments</a>              </td></tr>\n",
      "      <tr class=\"spacer\" style=\"height:5px\"></tr>\n",
      "                <tr class='athing' id='19223730'>\n",
      "      <td align=\"right\" valign=\"top\" class=\"title\"><span class=\"rank\">30.</span></td>      <td valign=\"top\" class=\"votelinks\"><center><a id='up_19223730' href='vote?id=19223730&amp;how=up&amp;goto=news'><div class='votearrow' title='upvote'></div></a></center></td><td class=\"title\"><a href=\"https://www.bbc.co.uk/news/science-environment-47293317\" class=\"storylink\">Hayabusa-2: Japan Spacecraft Touches Down on Asteroid</a><span class=\"sitebit comhead\"> (<a href=\"from?site=bbc.co.uk\"><span class=\"sitestr\">bbc.co.uk</span></a>)</span></td></tr><tr><td colspan=\"2\"></td><td class=\"subtext\">\n",
      "        <span class=\"score\" id=\"score_19223730\">424 points</span> by <a href=\"user?id=scaryclam\" class=\"hnuser\">scaryclam</a> <span class=\"age\"><a href=\"item?id=19223730\">1 day ago</a></span> <span id=\"unv_19223730\"></span> | <a href=\"hide?id=19223730&amp;goto=news\">hide</a> | <a href=\"item?id=19223730\">145&nbsp;comments</a>              </td></tr>\n",
      "      <tr class=\"spacer\" style=\"height:5px\"></tr>\n",
      "            <tr class=\"morespace\" style=\"height:10px\"></tr><tr><td colspan=\"2\"></td><td class=\"title\"><a href=\"news?p=2\" class=\"morelink\" rel=\"nofollow\">More</a></td></tr>\n",
      "  </table>\n",
      "</td></tr>\n",
      "<tr><td><img src=\"s.gif\" height=\"10\" width=\"0\"><table width=\"100%\" cellspacing=\"0\" cellpadding=\"1\"><tr><td bgcolor=\"#ff6600\"></td></tr></table><br><center><a href=\"https://www.ycombinator.com/apply/\">\n",
      "        Applications are open for YC Summer 2019\n",
      "      </a></center><br><center><span class=\"yclinks\"><a href=\"newsguidelines.html\">Guidelines</a>\n",
      "        | <a href=\"newsfaq.html\">FAQ</a>\n",
      "        | <a href=\"mailto:hn@ycombinator.com\">Support</a>\n",
      "        | <a href=\"https://github.com/HackerNews/API\">API</a>\n",
      "        | <a href=\"security.html\">Security</a>\n",
      "        | <a href=\"lists\">Lists</a>\n",
      "        | <a href=\"bookmarklet.html\" rel=\"nofollow\">Bookmarklet</a>\n",
      "        | <a href=\"http://www.ycombinator.com/legal/\">Legal</a>\n",
      "        | <a href=\"http://www.ycombinator.com/apply/\">Apply to YC</a>\n",
      "        | <a href=\"mailto:hn@ycombinator.com\">Contact</a></span><br><br><form method=\"get\" action=\"//hn.algolia.com/\">Search:\n",
      "          <input type=\"text\" name=\"q\" value=\"\" size=\"17\" autocorrect=\"off\" spellcheck=\"false\" autocapitalize=\"off\" autocomplete=\"false\"></form>\n",
      "            </center></td></tr>\n",
      "      </table></center></body><script type='text/javascript' src='hn.js?cQLJmfCAtx2wdZ34zW8g'></script>\n",
      "  </html>\n",
      "\n"
     ]
    }
   ],
   "source": [
    "import requests\n",
    "\n",
    "# Fetch a web page\n",
    "r = requests.get(\"https://news.ycombinator.com\")\n",
    "print(r.text)"
   ]
  },
  {
   "cell_type": "code",
   "execution_count": 5,
   "metadata": {},
   "outputs": [
    {
     "name": "stdout",
     "output_type": "stream",
     "text": [
      "\n",
      "            \n",
      "          \n",
      "        Hacker News\n",
      "        \n",
      "                  Hacker News\n",
      "              new | more | comments | ask | show | jobs | submit            \n",
      "                              login\n",
      "                          \n",
      "              \n",
      "\n",
      "              \n",
      "      1.      New York governor orders probe into Facebook access to data from other apps (reuters.com)\n",
      "        341 points by tareqak 12 hours ago  | hide | 71&nbsp;comments              \n",
      "      \n",
      "                \n",
      "      2.      Why Language-Oriented Programming? Why Racket? (beautifulracket.com)\n",
      "        23 points by jessealama 2 hours ago  | hide | discuss              \n",
      "      \n",
      "                \n",
      "      3.      Life and society are increasingly governed by numbers (economist.com)\n",
      "        99 points by jkuria 7 hours ago  | hide | 33&nbsp;comments              \n",
      "      \n",
      "                \n",
      "      4.      New 'more' link on HN front page (ycombinator.com)\n",
      "        283 points by Y_Y 13 hours ago  | hide | 138&nbsp;comments              \n",
      "      \n",
      "                \n",
      "      5.      When Algorithms Think You Want to Die (wired.com)\n",
      "        46 points by iron0013 6 hours ago  | hide | 28&nbsp;comments              \n",
      "      \n",
      "                \n",
      "      6.      Why's a Big Red Tanker Drifting Near Boston? (gcaptain.com)\n",
      "        79 points by protomyth 8 hours ago  | hide | 67&nbsp;comments              \n",
      "      \n",
      "                \n",
      "      7.      Retired People Could Be Ideal Customers for Self-Driving Cars (economist.com)\n",
      "        35 points by jkuria 7 hours ago  | hide | 25&nbsp;comments              \n",
      "      \n",
      "                \n",
      "      8.      Nvidia GeForce GTX 1660 Ti 6GB Review (anandtech.com)\n",
      "        73 points by babak_ap 11 hours ago  | hide | 53&nbsp;comments              \n",
      "      \n",
      "                \n",
      "      9.      Mcpp: A Portable C Preprocessor (sourceforge.net)\n",
      "        15 points by blacksqr 5 hours ago  | hide | 2&nbsp;comments              \n",
      "      \n",
      "                \n",
      "      10.      Software Piracy Birthed an Underground Art Scene (2018) [video] (youtube.com)\n",
      "        10 points by bane 2 hours ago  | hide | 3&nbsp;comments              \n",
      "      \n",
      "                \n",
      "      11.      Launch HN: Modern Labor (YC W19) – Paying People to Learn to Code\n",
      "        211 points by asd33313131 15 hours ago  | hide | 235&nbsp;comments              \n",
      "      \n",
      "                \n",
      "      12.      Sam Altman: Bay Area is no longer the obvious place for startups (twitter.com)\n",
      "        149 points by everbody 4 hours ago  | hide | 123&nbsp;comments              \n",
      "      \n",
      "                \n",
      "      13.      Simplest and an Extremely Well-Written Tutorial on Caret Package in R (machinelearningplus.com)\n",
      "        7 points by selva86 1 hour ago  | hide | discuss              \n",
      "      \n",
      "                \n",
      "      14.      The Story of Storytelling (harpers.org)\n",
      "        23 points by longdefeat 6 hours ago  | hide | 1&nbsp;comment              \n",
      "      \n",
      "                \n",
      "      15.      What Charles Bukowski’s Glamorous Displays of Alcoholism Left Out (nytimes.com)\n",
      "        102 points by samclemens 15 hours ago  | hide | 63&nbsp;comments              \n",
      "      \n",
      "                \n",
      "      16.      John Ruskin: A Prophet for Our Troubled Times (newstatesman.com)\n",
      "        4 points by apollinaire 2 hours ago  | hide | discuss              \n",
      "      \n",
      "                \n",
      "      17.      Don’t Lead by Example (medium.com)\n",
      "        17 points by theBashShell 4 hours ago  | hide | 12&nbsp;comments              \n",
      "      \n",
      "                \n",
      "      18.      KitchenAid’s Key Ingredient: Investing in Workers (wsj.com)\n",
      "        19 points by CaliforniaKarl 6 hours ago  | hide | 2&nbsp;comments              \n",
      "      \n",
      "                \n",
      "      19.      A Heavily-Commented Linux Kernel Source Code [pdf] (oldlinux.org)\n",
      "        641 points by turingbook 19 hours ago  | hide | 33&nbsp;comments              \n",
      "      \n",
      "                \n",
      "      20.      World's largest bee, missing for 38 years, found alive in Indonesia (theguardian.com)\n",
      "        39 points by pseudolus 10 hours ago  | hide | 5&nbsp;comments              \n",
      "      \n",
      "                \n",
      "      21.      An update about Redis developments in 2019 (antirez.com)\n",
      "        297 points by mykowebhn 15 hours ago  | hide | 77&nbsp;comments              \n",
      "      \n",
      "                \n",
      "      22.      Inheriting the Trauma of Genocide (wsj.com)\n",
      "        62 points by niyikiza 14 hours ago  | hide | 34&nbsp;comments              \n",
      "      \n",
      "                \n",
      "      23.      Bill Maher Tells Amazon's Jeff Bezos to “Take One for the Team” (youtube.com)\n",
      "        4 points by mplanner 37 minutes ago  | hide | discuss              \n",
      "      \n",
      "                \n",
      "      24.      RIP Culture War Thread (slatestarcodex.com)\n",
      "        223 points by whiddershins 13 hours ago  | hide | 210&nbsp;comments              \n",
      "      \n",
      "                \n",
      "      25.      Overpaid CEOs 2019 (asyousow.org)\n",
      "        58 points by Flott 7 hours ago  | hide | 157&nbsp;comments              \n",
      "      \n",
      "                \n",
      "      26.      Linus Torvalds on Why ARM Won't Win the Server Space (realworldtech.com)\n",
      "        426 points by msh 21 hours ago  | hide | 468&nbsp;comments              \n",
      "      \n",
      "                \n",
      "      27.      Some Details of My Personal Infrastructure (stephenwolfram.com)\n",
      "        1170 points by perardi 1 day ago  | hide | 362&nbsp;comments              \n",
      "      \n",
      "                \n",
      "      28.      Apple to Close Stores in Eastern District of Texas to Fight Patent Trolls (macrumors.com)\n",
      "        259 points by aquabeagle 17 hours ago  | hide | 174&nbsp;comments              \n",
      "      \n",
      "                \n",
      "      29.      12-Year-Old Claims to Have Achieved Nuclear Fusion at Home (2018) (fusor.net)\n",
      "        192 points by richardhod 11 hours ago  | hide | 79&nbsp;comments              \n",
      "      \n",
      "                \n",
      "      30.      Hayabusa-2: Japan Spacecraft Touches Down on Asteroid (bbc.co.uk)\n",
      "        424 points by scaryclam 1 day ago  | hide | 145&nbsp;comments              \n",
      "      \n",
      "            More\n",
      "  \n",
      "\n",
      "\n",
      "        Applications are open for YC Summer 2019\n",
      "      Guidelines\n",
      "        | FAQ\n",
      "        | Support\n",
      "        | API\n",
      "        | Security\n",
      "        | Lists\n",
      "        | Bookmarklet\n",
      "        | Legal\n",
      "        | Apply to YC\n",
      "        | ContactSearch:\n",
      "          \n",
      "            \n",
      "      \n",
      "  \n",
      "\n"
     ]
    }
   ],
   "source": [
    "import re\n",
    "\n",
    "# Remove HTML tags using RegEx\n",
    "pattern = re.compile(r'<.*?>')  # tags look like <...>\n",
    "print(pattern.sub('', r.text))  # replace them with blank"
   ]
  },
  {
   "cell_type": "code",
   "execution_count": 6,
   "metadata": {},
   "outputs": [
    {
     "name": "stdout",
     "output_type": "stream",
     "text": [
      "\n",
      "            \n",
      "          \n",
      "        Hacker News\n",
      "        \n",
      "                  Hacker News\n",
      "              new | more | comments | ask | show | jobs | submit            \n",
      "                              login\n",
      "                          \n",
      "              \n",
      "\n",
      "              \n",
      "      1.      New York governor orders probe into Facebook access to data from other apps (reuters.com)\n",
      "        341 points by tareqak 12 hours ago  | hide | 71 comments              \n",
      "      \n",
      "                \n",
      "      2.      Why Language-Oriented Programming? Why Racket? (beautifulracket.com)\n",
      "        23 points by jessealama 2 hours ago  | hide | discuss              \n",
      "      \n",
      "                \n",
      "      3.      Life and society are increasingly governed by numbers (economist.com)\n",
      "        99 points by jkuria 7 hours ago  | hide | 33 comments              \n",
      "      \n",
      "                \n",
      "      4.      New 'more' link on HN front page (ycombinator.com)\n",
      "        283 points by Y_Y 13 hours ago  | hide | 138 comments              \n",
      "      \n",
      "                \n",
      "      5.      When Algorithms Think You Want to Die (wired.com)\n",
      "        46 points by iron0013 6 hours ago  | hide | 28 comments              \n",
      "      \n",
      "                \n",
      "      6.      Why's a Big Red Tanker Drifting Near Boston? (gcaptain.com)\n",
      "        79 points by protomyth 8 hours ago  | hide | 67 comments              \n",
      "      \n",
      "                \n",
      "      7.      Retired People Could Be Ideal Customers for Self-Driving Cars (economist.com)\n",
      "        35 points by jkuria 7 hours ago  | hide | 25 comments              \n",
      "      \n",
      "                \n",
      "      8.      Nvidia GeForce GTX 1660 Ti 6GB Review (anandtech.com)\n",
      "        73 points by babak_ap 11 hours ago  | hide | 53 comments              \n",
      "      \n",
      "                \n",
      "      9.      Mcpp: A Portable C Preprocessor (sourceforge.net)\n",
      "        15 points by blacksqr 5 hours ago  | hide | 2 comments              \n",
      "      \n",
      "                \n",
      "      10.      Software Piracy Birthed an Underground Art Scene (2018) [video] (youtube.com)\n",
      "        10 points by bane 2 hours ago  | hide | 3 comments              \n",
      "      \n",
      "                \n",
      "      11.      Launch HN: Modern Labor (YC W19) – Paying People to Learn to Code\n",
      "        211 points by asd33313131 15 hours ago  | hide | 235 comments              \n",
      "      \n",
      "                \n",
      "      12.      Sam Altman: Bay Area is no longer the obvious place for startups (twitter.com)\n",
      "        149 points by everbody 4 hours ago  | hide | 123 comments              \n",
      "      \n",
      "                \n",
      "      13.      Simplest and an Extremely Well-Written Tutorial on Caret Package in R (machinelearningplus.com)\n",
      "        7 points by selva86 1 hour ago  | hide | discuss              \n",
      "      \n",
      "                \n",
      "      14.      The Story of Storytelling (harpers.org)\n",
      "        23 points by longdefeat 6 hours ago  | hide | 1 comment              \n",
      "      \n",
      "                \n",
      "      15.      What Charles Bukowski’s Glamorous Displays of Alcoholism Left Out (nytimes.com)\n",
      "        102 points by samclemens 15 hours ago  | hide | 63 comments              \n",
      "      \n",
      "                \n",
      "      16.      John Ruskin: A Prophet for Our Troubled Times (newstatesman.com)\n",
      "        4 points by apollinaire 2 hours ago  | hide | discuss              \n",
      "      \n",
      "                \n",
      "      17.      Don’t Lead by Example (medium.com)\n",
      "        17 points by theBashShell 4 hours ago  | hide | 12 comments              \n",
      "      \n",
      "                \n",
      "      18.      KitchenAid’s Key Ingredient: Investing in Workers (wsj.com)\n",
      "        19 points by CaliforniaKarl 6 hours ago  | hide | 2 comments              \n",
      "      \n",
      "                \n",
      "      19.      A Heavily-Commented Linux Kernel Source Code [pdf] (oldlinux.org)\n",
      "        641 points by turingbook 19 hours ago  | hide | 33 comments              \n",
      "      \n",
      "                \n",
      "      20.      World's largest bee, missing for 38 years, found alive in Indonesia (theguardian.com)\n",
      "        39 points by pseudolus 10 hours ago  | hide | 5 comments              \n",
      "      \n",
      "                \n",
      "      21.      An update about Redis developments in 2019 (antirez.com)\n",
      "        297 points by mykowebhn 15 hours ago  | hide | 77 comments              \n",
      "      \n",
      "                \n",
      "      22.      Inheriting the Trauma of Genocide (wsj.com)\n",
      "        62 points by niyikiza 14 hours ago  | hide | 34 comments              \n",
      "      \n",
      "                \n",
      "      23.      Bill Maher Tells Amazon's Jeff Bezos to “Take One for the Team” (youtube.com)\n",
      "        4 points by mplanner 37 minutes ago  | hide | discuss              \n",
      "      \n",
      "                \n",
      "      24.      RIP Culture War Thread (slatestarcodex.com)\n",
      "        223 points by whiddershins 13 hours ago  | hide | 210 comments              \n",
      "      \n",
      "                \n",
      "      25.      Overpaid CEOs 2019 (asyousow.org)\n",
      "        58 points by Flott 7 hours ago  | hide | 157 comments              \n",
      "      \n",
      "                \n",
      "      26.      Linus Torvalds on Why ARM Won't Win the Server Space (realworldtech.com)\n",
      "        426 points by msh 21 hours ago  | hide | 468 comments              \n",
      "      \n",
      "                \n",
      "      27.      Some Details of My Personal Infrastructure (stephenwolfram.com)\n",
      "        1170 points by perardi 1 day ago  | hide | 362 comments              \n",
      "      \n",
      "                \n",
      "      28.      Apple to Close Stores in Eastern District of Texas to Fight Patent Trolls (macrumors.com)\n",
      "        259 points by aquabeagle 17 hours ago  | hide | 174 comments              \n",
      "      \n",
      "                \n",
      "      29.      12-Year-Old Claims to Have Achieved Nuclear Fusion at Home (2018) (fusor.net)\n",
      "        192 points by richardhod 11 hours ago  | hide | 79 comments              \n",
      "      \n",
      "                \n",
      "      30.      Hayabusa-2: Japan Spacecraft Touches Down on Asteroid (bbc.co.uk)\n",
      "        424 points by scaryclam 1 day ago  | hide | 145 comments              \n",
      "      \n",
      "            More\n",
      "  \n",
      "\n",
      "\n",
      "        Applications are open for YC Summer 2019\n",
      "      Guidelines\n",
      "        | FAQ\n",
      "        | Support\n",
      "        | API\n",
      "        | Security\n",
      "        | Lists\n",
      "        | Bookmarklet\n",
      "        | Legal\n",
      "        | Apply to YC\n",
      "        | ContactSearch:\n",
      "          \n",
      "            \n",
      "      \n",
      "  \n",
      "\n"
     ]
    }
   ],
   "source": [
    "from bs4 import BeautifulSoup\n",
    "\n",
    "# Remove HTML tags using Beautiful Soup library\n",
    "soup = BeautifulSoup(r.text, \"html5lib\")\n",
    "print(soup.get_text())"
   ]
  },
  {
   "cell_type": "code",
   "execution_count": 7,
   "metadata": {
    "scrolled": true
   },
   "outputs": [
    {
     "data": {
      "text/plain": [
       "<tr class=\"athing\" id=\"19228744\">\n",
       "      <td align=\"right\" class=\"title\" valign=\"top\"><span class=\"rank\">1.</span></td>      <td class=\"votelinks\" valign=\"top\"><center><a href=\"vote?id=19228744&amp;how=up&amp;goto=news\" id=\"up_19228744\"><div class=\"votearrow\" title=\"upvote\"></div></a></center></td><td class=\"title\"><a class=\"storylink\" href=\"https://www.reuters.com/article/facebook-new-york/new-york-governor-cuomo-orders-probe-into-facebook-access-to-personal-data-idUSKCN1QB2BK\">New York governor orders probe into Facebook access to data from other apps</a><span class=\"sitebit comhead\"> (<a href=\"from?site=reuters.com\"><span class=\"sitestr\">reuters.com</span></a>)</span></td></tr>"
      ]
     },
     "execution_count": 7,
     "metadata": {},
     "output_type": "execute_result"
    }
   ],
   "source": [
    "# Find all articles\n",
    "summaries = soup.find_all(\"tr\", class_=\"athing\")\n",
    "summaries[0]"
   ]
  },
  {
   "cell_type": "code",
   "execution_count": 8,
   "metadata": {},
   "outputs": [
    {
     "data": {
      "text/plain": [
       "'New York governor orders probe into Facebook access to data from other apps'"
      ]
     },
     "execution_count": 8,
     "metadata": {},
     "output_type": "execute_result"
    }
   ],
   "source": [
    "# Extract title\n",
    "summaries[0].find(\"a\", class_=\"storylink\").get_text().strip()"
   ]
  },
  {
   "cell_type": "code",
   "execution_count": 9,
   "metadata": {},
   "outputs": [
    {
     "name": "stdout",
     "output_type": "stream",
     "text": [
      "30 Article summaries found. Sample:\n",
      "New York governor orders probe into Facebook access to data from other apps\n"
     ]
    }
   ],
   "source": [
    "# Find all articles, extract titles\n",
    "articles = []\n",
    "summaries = soup.find_all(\"tr\", class_=\"athing\")\n",
    "for summary in summaries:\n",
    "    title = summary.find(\"a\", class_=\"storylink\").get_text().strip()\n",
    "    articles.append((title))\n",
    "\n",
    "print(len(articles), \"Article summaries found. Sample:\")\n",
    "print(articles[0])"
   ]
  },
  {
   "cell_type": "markdown",
   "metadata": {
    "collapsed": true
   },
   "source": [
    "## Normalization"
   ]
  },
  {
   "cell_type": "markdown",
   "metadata": {},
   "source": [
    "### Case Normalization"
   ]
  },
  {
   "cell_type": "code",
   "execution_count": 10,
   "metadata": {},
   "outputs": [
    {
     "name": "stdout",
     "output_type": "stream",
     "text": [
      "The first time you see The Second Renaissance it may look boring. Look at it at least twice and definitely watch part 2. It will change your view of the matrix. Are the human people the ones who started the war ? Is AI a bad thing ?\n"
     ]
    }
   ],
   "source": [
    "# Sample text\n",
    "text = \"The first time you see The Second Renaissance it may look boring. Look at it at least twice and definitely watch part 2. It will change your view of the matrix. Are the human people the ones who started the war ? Is AI a bad thing ?\"\n",
    "print(text)"
   ]
  },
  {
   "cell_type": "code",
   "execution_count": 11,
   "metadata": {},
   "outputs": [
    {
     "name": "stdout",
     "output_type": "stream",
     "text": [
      "the first time you see the second renaissance it may look boring. look at it at least twice and definitely watch part 2. it will change your view of the matrix. are the human people the ones who started the war ? is ai a bad thing ?\n"
     ]
    }
   ],
   "source": [
    "# Convert to lowercase\n",
    "text = text.lower() \n",
    "print(text)"
   ]
  },
  {
   "cell_type": "markdown",
   "metadata": {},
   "source": [
    "### Punctuation Removal"
   ]
  },
  {
   "cell_type": "code",
   "execution_count": 12,
   "metadata": {},
   "outputs": [
    {
     "name": "stdout",
     "output_type": "stream",
     "text": [
      "the first time you see the second renaissance it may look boring  look at it at least twice and definitely watch part 2  it will change your view of the matrix  are the human people the ones who started the war   is ai a bad thing  \n"
     ]
    }
   ],
   "source": [
    "import re\n",
    "\n",
    "# Remove punctuation characters\n",
    "text = re.sub(r\"[^a-zA-Z0-9]\", \" \", text) \n",
    "print(text)"
   ]
  },
  {
   "cell_type": "markdown",
   "metadata": {},
   "source": [
    "## Tokenization"
   ]
  },
  {
   "cell_type": "code",
   "execution_count": null,
   "metadata": {},
   "outputs": [],
   "source": [
    "# Split text into tokens (words)\n",
    "words = text.split()\n",
    "print(words)"
   ]
  },
  {
   "cell_type": "markdown",
   "metadata": {},
   "source": [
    "### NLTK: Natural Language ToolKit"
   ]
  },
  {
   "cell_type": "code",
   "execution_count": 13,
   "metadata": {},
   "outputs": [],
   "source": [
    "import os\n",
    "import nltk\n",
    "nltk.data.path.append(os.path.join(os.getcwd(), \"nltk_data\"))"
   ]
  },
  {
   "cell_type": "code",
   "execution_count": 14,
   "metadata": {},
   "outputs": [
    {
     "name": "stdout",
     "output_type": "stream",
     "text": [
      "Dr. Smith graduated from the University of Washington. He later started an analytics firm called Lux, which catered to enterprise customers.\n"
     ]
    }
   ],
   "source": [
    "# Another sample text\n",
    "text = \"Dr. Smith graduated from the University of Washington. He later started an analytics firm called Lux, which catered to enterprise customers.\"\n",
    "print(text)"
   ]
  },
  {
   "cell_type": "code",
   "execution_count": 15,
   "metadata": {},
   "outputs": [
    {
     "name": "stdout",
     "output_type": "stream",
     "text": [
      "['Dr.', 'Smith', 'graduated', 'from', 'the', 'University', 'of', 'Washington', '.', 'He', 'later', 'started', 'an', 'analytics', 'firm', 'called', 'Lux', ',', 'which', 'catered', 'to', 'enterprise', 'customers', '.']\n"
     ]
    }
   ],
   "source": [
    "from nltk.tokenize import word_tokenize\n",
    "\n",
    "# Split text into words using NLTK\n",
    "words = word_tokenize(text)\n",
    "print(words)"
   ]
  },
  {
   "cell_type": "code",
   "execution_count": 16,
   "metadata": {},
   "outputs": [
    {
     "name": "stdout",
     "output_type": "stream",
     "text": [
      "['Dr. Smith graduated from the University of Washington.', 'He later started an analytics firm called Lux, which catered to enterprise customers.']\n"
     ]
    }
   ],
   "source": [
    "from nltk.tokenize import sent_tokenize\n",
    "\n",
    "# Split text into sentences\n",
    "sentences = sent_tokenize(text)\n",
    "print(sentences)"
   ]
  },
  {
   "cell_type": "code",
   "execution_count": 17,
   "metadata": {},
   "outputs": [
    {
     "name": "stdout",
     "output_type": "stream",
     "text": [
      "['i', 'me', 'my', 'myself', 'we', 'our', 'ours', 'ourselves', 'you', \"you're\", \"you've\", \"you'll\", \"you'd\", 'your', 'yours', 'yourself', 'yourselves', 'he', 'him', 'his', 'himself', 'she', \"she's\", 'her', 'hers', 'herself', 'it', \"it's\", 'its', 'itself', 'they', 'them', 'their', 'theirs', 'themselves', 'what', 'which', 'who', 'whom', 'this', 'that', \"that'll\", 'these', 'those', 'am', 'is', 'are', 'was', 'were', 'be', 'been', 'being', 'have', 'has', 'had', 'having', 'do', 'does', 'did', 'doing', 'a', 'an', 'the', 'and', 'but', 'if', 'or', 'because', 'as', 'until', 'while', 'of', 'at', 'by', 'for', 'with', 'about', 'against', 'between', 'into', 'through', 'during', 'before', 'after', 'above', 'below', 'to', 'from', 'up', 'down', 'in', 'out', 'on', 'off', 'over', 'under', 'again', 'further', 'then', 'once', 'here', 'there', 'when', 'where', 'why', 'how', 'all', 'any', 'both', 'each', 'few', 'more', 'most', 'other', 'some', 'such', 'no', 'nor', 'not', 'only', 'own', 'same', 'so', 'than', 'too', 'very', 's', 't', 'can', 'will', 'just', 'don', \"don't\", 'should', \"should've\", 'now', 'd', 'll', 'm', 'o', 're', 've', 'y', 'ain', 'aren', \"aren't\", 'couldn', \"couldn't\", 'didn', \"didn't\", 'doesn', \"doesn't\", 'hadn', \"hadn't\", 'hasn', \"hasn't\", 'haven', \"haven't\", 'isn', \"isn't\", 'ma', 'mightn', \"mightn't\", 'mustn', \"mustn't\", 'needn', \"needn't\", 'shan', \"shan't\", 'shouldn', \"shouldn't\", 'wasn', \"wasn't\", 'weren', \"weren't\", 'won', \"won't\", 'wouldn', \"wouldn't\"]\n"
     ]
    }
   ],
   "source": [
    "# List stop words\n",
    "from nltk.corpus import stopwords\n",
    "print(stopwords.words(\"english\"))"
   ]
  },
  {
   "cell_type": "code",
   "execution_count": 18,
   "metadata": {},
   "outputs": [
    {
     "name": "stdout",
     "output_type": "stream",
     "text": [
      "['the', 'first', 'time', 'you', 'see', 'the', 'second', 'renaissance', 'it', 'may', 'look', 'boring', 'look', 'at', 'it', 'at', 'least', 'twice', 'and', 'definitely', 'watch', 'part', '2', 'it', 'will', 'change', 'your', 'view', 'of', 'the', 'matrix', 'are', 'the', 'human', 'people', 'the', 'ones', 'who', 'started', 'the', 'war', 'is', 'ai', 'a', 'bad', 'thing']\n"
     ]
    }
   ],
   "source": [
    "# Reset text\n",
    "text = \"The first time you see The Second Renaissance it may look boring. Look at it at least twice and definitely watch part 2. It will change your view of the matrix. Are the human people the ones who started the war ? Is AI a bad thing ?\"\n",
    "\n",
    "# Normalize it\n",
    "text = re.sub(r\"[^a-zA-Z0-9]\", \" \", text.lower())\n",
    "\n",
    "# Tokenize it\n",
    "words = text.split()\n",
    "print(words)"
   ]
  },
  {
   "cell_type": "code",
   "execution_count": 19,
   "metadata": {},
   "outputs": [
    {
     "name": "stdout",
     "output_type": "stream",
     "text": [
      "['first', 'time', 'see', 'second', 'renaissance', 'may', 'look', 'boring', 'look', 'least', 'twice', 'definitely', 'watch', 'part', '2', 'change', 'view', 'matrix', 'human', 'people', 'ones', 'started', 'war', 'ai', 'bad', 'thing']\n"
     ]
    }
   ],
   "source": [
    "# Remove stop words\n",
    "words = [w for w in words if w not in stopwords.words(\"english\")]\n",
    "print(words)"
   ]
  },
  {
   "cell_type": "markdown",
   "metadata": {},
   "source": [
    "### Sentence Parsing"
   ]
  },
  {
   "cell_type": "code",
   "execution_count": 20,
   "metadata": {},
   "outputs": [
    {
     "name": "stdout",
     "output_type": "stream",
     "text": [
      "(S\n",
      "  (NP I)\n",
      "  (VP\n",
      "    (VP (V shot) (NP (Det an) (N elephant)))\n",
      "    (PP (P in) (NP (Det my) (N pajamas)))))\n",
      "(S\n",
      "  (NP I)\n",
      "  (VP\n",
      "    (V shot)\n",
      "    (NP (Det an) (N elephant) (PP (P in) (NP (Det my) (N pajamas))))))\n"
     ]
    }
   ],
   "source": [
    "import nltk\n",
    "\n",
    "# Define a custom grammar\n",
    "my_grammar = nltk.CFG.fromstring(\"\"\"\n",
    "S -> NP VP\n",
    "PP -> P NP\n",
    "NP -> Det N | Det N PP | 'I'\n",
    "VP -> V NP | VP PP\n",
    "Det -> 'an' | 'my'\n",
    "N -> 'elephant' | 'pajamas'\n",
    "V -> 'shot'\n",
    "P -> 'in'\n",
    "\"\"\")\n",
    "parser = nltk.ChartParser(my_grammar)\n",
    "\n",
    "# Parse a sentence\n",
    "sentence = word_tokenize(\"I shot an elephant in my pajamas\")\n",
    "for tree in parser.parse(sentence):\n",
    "    print(tree)"
   ]
  },
  {
   "cell_type": "markdown",
   "metadata": {},
   "source": [
    "## Stemming & Lemmatization\n",
    "\n",
    "### Stemming"
   ]
  },
  {
   "cell_type": "code",
   "execution_count": 21,
   "metadata": {},
   "outputs": [
    {
     "name": "stdout",
     "output_type": "stream",
     "text": [
      "['first', 'time', 'see', 'second', 'renaiss', 'may', 'look', 'bore', 'look', 'least', 'twice', 'definit', 'watch', 'part', '2', 'chang', 'view', 'matrix', 'human', 'peopl', 'one', 'start', 'war', 'ai', 'bad', 'thing']\n"
     ]
    }
   ],
   "source": [
    "from nltk.stem.porter import PorterStemmer\n",
    "\n",
    "# Reduce words to their stems\n",
    "stemmed = [PorterStemmer().stem(w) for w in words]\n",
    "print(stemmed)"
   ]
  },
  {
   "cell_type": "markdown",
   "metadata": {},
   "source": [
    "### Lemmatization"
   ]
  },
  {
   "cell_type": "code",
   "execution_count": 22,
   "metadata": {},
   "outputs": [
    {
     "name": "stdout",
     "output_type": "stream",
     "text": [
      "['first', 'time', 'see', 'second', 'renaissance', 'may', 'look', 'boring', 'look', 'least', 'twice', 'definitely', 'watch', 'part', '2', 'change', 'view', 'matrix', 'human', 'people', 'one', 'started', 'war', 'ai', 'bad', 'thing']\n"
     ]
    }
   ],
   "source": [
    "from nltk.stem.wordnet import WordNetLemmatizer\n",
    "\n",
    "# Reduce words to their root form\n",
    "lemmed = [WordNetLemmatizer().lemmatize(w) for w in words]\n",
    "print(lemmed)"
   ]
  },
  {
   "cell_type": "code",
   "execution_count": 23,
   "metadata": {},
   "outputs": [
    {
     "name": "stdout",
     "output_type": "stream",
     "text": [
      "['first', 'time', 'see', 'second', 'renaissance', 'may', 'look', 'bore', 'look', 'least', 'twice', 'definitely', 'watch', 'part', '2', 'change', 'view', 'matrix', 'human', 'people', 'one', 'start', 'war', 'ai', 'bad', 'thing']\n"
     ]
    }
   ],
   "source": [
    "# Lemmatize verbs by specifying pos\n",
    "lemmed = [WordNetLemmatizer().lemmatize(w, pos='v') for w in lemmed]\n",
    "print(lemmed)"
   ]
  },
  {
   "cell_type": "code",
   "execution_count": null,
   "metadata": {},
   "outputs": [],
   "source": []
  }
 ],
 "metadata": {
  "kernelspec": {
   "display_name": "Python 3",
   "language": "python",
   "name": "python3"
  },
  "language_info": {
   "codemirror_mode": {
    "name": "ipython",
    "version": 3
   },
   "file_extension": ".py",
   "mimetype": "text/x-python",
   "name": "python",
   "nbconvert_exporter": "python",
   "pygments_lexer": "ipython3",
   "version": "3.6.3"
  }
 },
 "nbformat": 4,
 "nbformat_minor": 2
}
